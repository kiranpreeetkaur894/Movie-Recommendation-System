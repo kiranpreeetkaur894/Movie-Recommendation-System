{
 "cells": [
  {
   "cell_type": "markdown",
   "id": "e5de6767",
   "metadata": {},
   "source": [
    "###  Loading required Libraries"
   ]
  },
  {
   "cell_type": "code",
   "execution_count": 2,
   "id": "220f24ca",
   "metadata": {},
   "outputs": [],
   "source": [
    "import pandas as pd # data processing, CSV file I/O (e.g. pd.read_csv)\n",
    "import numpy as np#provides a multidimensional array object, \n",
    "                    #as well as variations such as masks and matrices, which can be used for various math operations\n",
    "import seaborn as sb #This library is used to visualize our data\n",
    "import warnings\n",
    "\n",
    "warnings.filterwarnings('ignore')\n",
    "import matplotlib.pyplot as plt #creates a figure, creates a plotting area in a figure, plots some lines in a plotting area\n",
    "import matplotlib.pyplot as plyt\n",
    "plt.style.use('seaborn-bright')\n",
    "%matplotlib inline "
   ]
  },
  {
   "cell_type": "markdown",
   "id": "6481090c",
   "metadata": {},
   "source": [
    "###  Importing dataset"
   ]
  },
  {
   "cell_type": "code",
   "execution_count": 3,
   "id": "fba153ff",
   "metadata": {},
   "outputs": [],
   "source": [
    "movies = pd.read_csv(\"C:/Users/SONY/Downloads/movies_metadata.csv\")"
   ]
  },
  {
   "cell_type": "code",
   "execution_count": 4,
   "id": "754d2b15",
   "metadata": {},
   "outputs": [],
   "source": [
    "ratings = pd.read_csv(\"C:/Users/SONY/Desktop/projectfinal/New folder/ratings.csv\")"
   ]
  },
  {
   "cell_type": "code",
   "execution_count": 5,
   "id": "7d5d46dc",
   "metadata": {},
   "outputs": [
    {
     "data": {
      "text/html": [
       "<div>\n",
       "<style scoped>\n",
       "    .dataframe tbody tr th:only-of-type {\n",
       "        vertical-align: middle;\n",
       "    }\n",
       "\n",
       "    .dataframe tbody tr th {\n",
       "        vertical-align: top;\n",
       "    }\n",
       "\n",
       "    .dataframe thead th {\n",
       "        text-align: right;\n",
       "    }\n",
       "</style>\n",
       "<table border=\"1\" class=\"dataframe\">\n",
       "  <thead>\n",
       "    <tr style=\"text-align: right;\">\n",
       "      <th></th>\n",
       "      <th>adult</th>\n",
       "      <th>belongs_to_collection</th>\n",
       "      <th>budget</th>\n",
       "      <th>genres</th>\n",
       "      <th>homepage</th>\n",
       "      <th>movieid</th>\n",
       "      <th>imdb_id</th>\n",
       "      <th>original_language</th>\n",
       "      <th>overview</th>\n",
       "      <th>popularity</th>\n",
       "      <th>...</th>\n",
       "      <th>release_date</th>\n",
       "      <th>revenue</th>\n",
       "      <th>runtime</th>\n",
       "      <th>spoken_languages</th>\n",
       "      <th>status</th>\n",
       "      <th>tagline</th>\n",
       "      <th>title</th>\n",
       "      <th>video</th>\n",
       "      <th>vote_average</th>\n",
       "      <th>vote_count</th>\n",
       "    </tr>\n",
       "  </thead>\n",
       "  <tbody>\n",
       "    <tr>\n",
       "      <th>0</th>\n",
       "      <td>False</td>\n",
       "      <td>{'id': 10194, 'name': 'Toy Story Collection', ...</td>\n",
       "      <td>30000000</td>\n",
       "      <td>[{'id': 16, 'name': 'Animation'}, {'id': 35, '...</td>\n",
       "      <td>http://toystory.disney.com/toy-story</td>\n",
       "      <td>862</td>\n",
       "      <td>tt0114709</td>\n",
       "      <td>english</td>\n",
       "      <td>Led by Woody, Andy's toys live happily in his ...</td>\n",
       "      <td>21.946943</td>\n",
       "      <td>...</td>\n",
       "      <td>30-10-1995</td>\n",
       "      <td>373554033.0</td>\n",
       "      <td>81.0</td>\n",
       "      <td>[{'iso_639_1': 'en', 'name': 'English'}]</td>\n",
       "      <td>Released</td>\n",
       "      <td>NaN</td>\n",
       "      <td>Toy Story</td>\n",
       "      <td>False</td>\n",
       "      <td>7.7</td>\n",
       "      <td>5415.0</td>\n",
       "    </tr>\n",
       "    <tr>\n",
       "      <th>1</th>\n",
       "      <td>False</td>\n",
       "      <td>NaN</td>\n",
       "      <td>65000000</td>\n",
       "      <td>[{'id': 12, 'name': 'Adventure'}, {'id': 14, '...</td>\n",
       "      <td>NaN</td>\n",
       "      <td>8844</td>\n",
       "      <td>tt0113497</td>\n",
       "      <td>english</td>\n",
       "      <td>When siblings Judy and Peter discover an encha...</td>\n",
       "      <td>17.015539</td>\n",
       "      <td>...</td>\n",
       "      <td>15-12-1995</td>\n",
       "      <td>262797249.0</td>\n",
       "      <td>104.0</td>\n",
       "      <td>[{'iso_639_1': 'en', 'name': 'English'}, {'iso...</td>\n",
       "      <td>Released</td>\n",
       "      <td>Roll the dice and unleash the excitement!</td>\n",
       "      <td>Jumanji</td>\n",
       "      <td>False</td>\n",
       "      <td>6.9</td>\n",
       "      <td>2413.0</td>\n",
       "    </tr>\n",
       "    <tr>\n",
       "      <th>2</th>\n",
       "      <td>False</td>\n",
       "      <td>{'id': 119050, 'name': 'Grumpy Old Men Collect...</td>\n",
       "      <td>0</td>\n",
       "      <td>[{'id': 10749, 'name': 'Romance'}, {'id': 35, ...</td>\n",
       "      <td>NaN</td>\n",
       "      <td>15602</td>\n",
       "      <td>tt0113228</td>\n",
       "      <td>english</td>\n",
       "      <td>A family wedding reignites the ancient feud be...</td>\n",
       "      <td>11.712900</td>\n",
       "      <td>...</td>\n",
       "      <td>22-12-1995</td>\n",
       "      <td>0.0</td>\n",
       "      <td>101.0</td>\n",
       "      <td>[{'iso_639_1': 'en', 'name': 'English'}]</td>\n",
       "      <td>Released</td>\n",
       "      <td>Still Yelling. Still Fighting. Still Ready for...</td>\n",
       "      <td>Grumpier Old Men</td>\n",
       "      <td>False</td>\n",
       "      <td>6.5</td>\n",
       "      <td>92.0</td>\n",
       "    </tr>\n",
       "    <tr>\n",
       "      <th>3</th>\n",
       "      <td>False</td>\n",
       "      <td>NaN</td>\n",
       "      <td>16000000</td>\n",
       "      <td>[{'id': 35, 'name': 'Comedy'}, {'id': 18, 'nam...</td>\n",
       "      <td>NaN</td>\n",
       "      <td>31357</td>\n",
       "      <td>tt0114885</td>\n",
       "      <td>english</td>\n",
       "      <td>Cheated on, mistreated and stepped on, the wom...</td>\n",
       "      <td>3.859495</td>\n",
       "      <td>...</td>\n",
       "      <td>22-12-1995</td>\n",
       "      <td>81452156.0</td>\n",
       "      <td>127.0</td>\n",
       "      <td>[{'iso_639_1': 'en', 'name': 'English'}]</td>\n",
       "      <td>Released</td>\n",
       "      <td>Friends are the people who let you be yourself...</td>\n",
       "      <td>Waiting to Exhale</td>\n",
       "      <td>False</td>\n",
       "      <td>6.1</td>\n",
       "      <td>34.0</td>\n",
       "    </tr>\n",
       "    <tr>\n",
       "      <th>4</th>\n",
       "      <td>False</td>\n",
       "      <td>{'id': 96871, 'name': 'Father of the Bride Col...</td>\n",
       "      <td>0</td>\n",
       "      <td>[{'id': 35, 'name': 'Comedy'}]</td>\n",
       "      <td>NaN</td>\n",
       "      <td>11862</td>\n",
       "      <td>tt0113041</td>\n",
       "      <td>english</td>\n",
       "      <td>Just when George Banks has recovered from his ...</td>\n",
       "      <td>8.387519</td>\n",
       "      <td>...</td>\n",
       "      <td>10-02-1995</td>\n",
       "      <td>76578911.0</td>\n",
       "      <td>106.0</td>\n",
       "      <td>[{'iso_639_1': 'en', 'name': 'English'}]</td>\n",
       "      <td>Released</td>\n",
       "      <td>Just When His World Is Back To Normal... He's ...</td>\n",
       "      <td>Father of the Bride Part II</td>\n",
       "      <td>False</td>\n",
       "      <td>5.7</td>\n",
       "      <td>173.0</td>\n",
       "    </tr>\n",
       "  </tbody>\n",
       "</table>\n",
       "<p>5 rows × 23 columns</p>\n",
       "</div>"
      ],
      "text/plain": [
       "   adult                              belongs_to_collection    budget  \\\n",
       "0  False  {'id': 10194, 'name': 'Toy Story Collection', ...  30000000   \n",
       "1  False                                                NaN  65000000   \n",
       "2  False  {'id': 119050, 'name': 'Grumpy Old Men Collect...         0   \n",
       "3  False                                                NaN  16000000   \n",
       "4  False  {'id': 96871, 'name': 'Father of the Bride Col...         0   \n",
       "\n",
       "                                              genres  \\\n",
       "0  [{'id': 16, 'name': 'Animation'}, {'id': 35, '...   \n",
       "1  [{'id': 12, 'name': 'Adventure'}, {'id': 14, '...   \n",
       "2  [{'id': 10749, 'name': 'Romance'}, {'id': 35, ...   \n",
       "3  [{'id': 35, 'name': 'Comedy'}, {'id': 18, 'nam...   \n",
       "4                     [{'id': 35, 'name': 'Comedy'}]   \n",
       "\n",
       "                               homepage  movieid    imdb_id original_language  \\\n",
       "0  http://toystory.disney.com/toy-story      862  tt0114709           english   \n",
       "1                                   NaN     8844  tt0113497           english   \n",
       "2                                   NaN    15602  tt0113228           english   \n",
       "3                                   NaN    31357  tt0114885           english   \n",
       "4                                   NaN    11862  tt0113041           english   \n",
       "\n",
       "                                            overview  popularity  ...  \\\n",
       "0  Led by Woody, Andy's toys live happily in his ...   21.946943  ...   \n",
       "1  When siblings Judy and Peter discover an encha...   17.015539  ...   \n",
       "2  A family wedding reignites the ancient feud be...   11.712900  ...   \n",
       "3  Cheated on, mistreated and stepped on, the wom...    3.859495  ...   \n",
       "4  Just when George Banks has recovered from his ...    8.387519  ...   \n",
       "\n",
       "  release_date      revenue runtime  \\\n",
       "0   30-10-1995  373554033.0    81.0   \n",
       "1   15-12-1995  262797249.0   104.0   \n",
       "2   22-12-1995          0.0   101.0   \n",
       "3   22-12-1995   81452156.0   127.0   \n",
       "4   10-02-1995   76578911.0   106.0   \n",
       "\n",
       "                                    spoken_languages    status  \\\n",
       "0           [{'iso_639_1': 'en', 'name': 'English'}]  Released   \n",
       "1  [{'iso_639_1': 'en', 'name': 'English'}, {'iso...  Released   \n",
       "2           [{'iso_639_1': 'en', 'name': 'English'}]  Released   \n",
       "3           [{'iso_639_1': 'en', 'name': 'English'}]  Released   \n",
       "4           [{'iso_639_1': 'en', 'name': 'English'}]  Released   \n",
       "\n",
       "                                             tagline  \\\n",
       "0                                                NaN   \n",
       "1          Roll the dice and unleash the excitement!   \n",
       "2  Still Yelling. Still Fighting. Still Ready for...   \n",
       "3  Friends are the people who let you be yourself...   \n",
       "4  Just When His World Is Back To Normal... He's ...   \n",
       "\n",
       "                         title  video vote_average vote_count  \n",
       "0                    Toy Story  False          7.7     5415.0  \n",
       "1                      Jumanji  False          6.9     2413.0  \n",
       "2             Grumpier Old Men  False          6.5       92.0  \n",
       "3            Waiting to Exhale  False          6.1       34.0  \n",
       "4  Father of the Bride Part II  False          5.7      173.0  \n",
       "\n",
       "[5 rows x 23 columns]"
      ]
     },
     "execution_count": 5,
     "metadata": {},
     "output_type": "execute_result"
    }
   ],
   "source": [
    "movies.head()"
   ]
  },
  {
   "cell_type": "code",
   "execution_count": 6,
   "id": "c8e7b1d0",
   "metadata": {},
   "outputs": [
    {
     "data": {
      "text/html": [
       "<div>\n",
       "<style scoped>\n",
       "    .dataframe tbody tr th:only-of-type {\n",
       "        vertical-align: middle;\n",
       "    }\n",
       "\n",
       "    .dataframe tbody tr th {\n",
       "        vertical-align: top;\n",
       "    }\n",
       "\n",
       "    .dataframe thead th {\n",
       "        text-align: right;\n",
       "    }\n",
       "</style>\n",
       "<table border=\"1\" class=\"dataframe\">\n",
       "  <thead>\n",
       "    <tr style=\"text-align: right;\">\n",
       "      <th></th>\n",
       "      <th>userId</th>\n",
       "      <th>movieid</th>\n",
       "      <th>rating</th>\n",
       "      <th>timestamp</th>\n",
       "    </tr>\n",
       "  </thead>\n",
       "  <tbody>\n",
       "    <tr>\n",
       "      <th>0</th>\n",
       "      <td>1</td>\n",
       "      <td>110</td>\n",
       "      <td>1.0</td>\n",
       "      <td>1425941529</td>\n",
       "    </tr>\n",
       "    <tr>\n",
       "      <th>1</th>\n",
       "      <td>1</td>\n",
       "      <td>147</td>\n",
       "      <td>4.5</td>\n",
       "      <td>1425942435</td>\n",
       "    </tr>\n",
       "    <tr>\n",
       "      <th>2</th>\n",
       "      <td>1</td>\n",
       "      <td>858</td>\n",
       "      <td>5.0</td>\n",
       "      <td>1425941523</td>\n",
       "    </tr>\n",
       "    <tr>\n",
       "      <th>3</th>\n",
       "      <td>1</td>\n",
       "      <td>1221</td>\n",
       "      <td>5.0</td>\n",
       "      <td>1425941546</td>\n",
       "    </tr>\n",
       "    <tr>\n",
       "      <th>4</th>\n",
       "      <td>1</td>\n",
       "      <td>1246</td>\n",
       "      <td>5.0</td>\n",
       "      <td>1425941556</td>\n",
       "    </tr>\n",
       "  </tbody>\n",
       "</table>\n",
       "</div>"
      ],
      "text/plain": [
       "   userId  movieid  rating   timestamp\n",
       "0       1      110     1.0  1425941529\n",
       "1       1      147     4.5  1425942435\n",
       "2       1      858     5.0  1425941523\n",
       "3       1     1221     5.0  1425941546\n",
       "4       1     1246     5.0  1425941556"
      ]
     },
     "execution_count": 6,
     "metadata": {},
     "output_type": "execute_result"
    }
   ],
   "source": [
    "ratings.head()"
   ]
  },
  {
   "cell_type": "markdown",
   "id": "e67ea5e1",
   "metadata": {},
   "source": [
    "###  Data preprocessing"
   ]
  },
  {
   "cell_type": "code",
   "execution_count": 7,
   "id": "e734e0e3",
   "metadata": {},
   "outputs": [
    {
     "data": {
      "text/plain": [
       "Index(['adult', 'belongs_to_collection', 'budget', 'genres', 'homepage',\n",
       "       'movieid', 'imdb_id', 'original_language', 'overview', 'popularity',\n",
       "       'poster_path', 'production_companies', 'production_countries',\n",
       "       'release_date', 'revenue', 'runtime', 'spoken_languages', 'status',\n",
       "       'tagline', 'title', 'video', 'vote_average', 'vote_count'],\n",
       "      dtype='object')"
      ]
     },
     "execution_count": 7,
     "metadata": {},
     "output_type": "execute_result"
    }
   ],
   "source": [
    "movies.columns"
   ]
  },
  {
   "cell_type": "code",
   "execution_count": 8,
   "id": "a2cdb345",
   "metadata": {},
   "outputs": [],
   "source": [
    " movies = movies.drop([\"belongs_to_collection\",\"homepage\",\"poster_path\",\"tagline\"],axis = 1)\n"
   ]
  },
  {
   "cell_type": "code",
   "execution_count": 9,
   "id": "1b654513",
   "metadata": {},
   "outputs": [
    {
     "data": {
      "text/plain": [
       "(45463, 19)"
      ]
     },
     "execution_count": 9,
     "metadata": {},
     "output_type": "execute_result"
    }
   ],
   "source": [
    "movies.shape"
   ]
  },
  {
   "cell_type": "code",
   "execution_count": 10,
   "id": "f713719e",
   "metadata": {},
   "outputs": [
    {
     "data": {
      "text/plain": [
       "(1048575, 4)"
      ]
     },
     "execution_count": 10,
     "metadata": {},
     "output_type": "execute_result"
    }
   ],
   "source": [
    "ratings.shape"
   ]
  },
  {
   "cell_type": "code",
   "execution_count": 11,
   "id": "016603ab",
   "metadata": {},
   "outputs": [
    {
     "name": "stdout",
     "output_type": "stream",
     "text": [
      "<class 'pandas.core.frame.DataFrame'>\n",
      "RangeIndex: 45463 entries, 0 to 45462\n",
      "Data columns (total 19 columns):\n",
      " #   Column                Non-Null Count  Dtype  \n",
      "---  ------                --------------  -----  \n",
      " 0   adult                 45463 non-null  bool   \n",
      " 1   budget                45463 non-null  int64  \n",
      " 2   genres                45463 non-null  object \n",
      " 3   movieid               45463 non-null  int64  \n",
      " 4   imdb_id               45446 non-null  object \n",
      " 5   original_language     45452 non-null  object \n",
      " 6   overview              44509 non-null  object \n",
      " 7   popularity            45460 non-null  float64\n",
      " 8   production_companies  45460 non-null  object \n",
      " 9   production_countries  45460 non-null  object \n",
      " 10  release_date          45376 non-null  object \n",
      " 11  revenue               45460 non-null  float64\n",
      " 12  runtime               45203 non-null  float64\n",
      " 13  spoken_languages      45460 non-null  object \n",
      " 14  status                45379 non-null  object \n",
      " 15  title                 45460 non-null  object \n",
      " 16  video                 45460 non-null  object \n",
      " 17  vote_average          45460 non-null  float64\n",
      " 18  vote_count            45460 non-null  float64\n",
      "dtypes: bool(1), float64(5), int64(2), object(11)\n",
      "memory usage: 6.3+ MB\n"
     ]
    }
   ],
   "source": [
    "movies.info()"
   ]
  },
  {
   "cell_type": "code",
   "execution_count": 12,
   "id": "225ce107",
   "metadata": {},
   "outputs": [
    {
     "name": "stdout",
     "output_type": "stream",
     "text": [
      "<class 'pandas.core.frame.DataFrame'>\n",
      "RangeIndex: 1048575 entries, 0 to 1048574\n",
      "Data columns (total 4 columns):\n",
      " #   Column     Non-Null Count    Dtype  \n",
      "---  ------     --------------    -----  \n",
      " 0   userId     1048575 non-null  int64  \n",
      " 1   movieid    1048575 non-null  int64  \n",
      " 2   rating     1048575 non-null  float64\n",
      " 3   timestamp  1048575 non-null  int64  \n",
      "dtypes: float64(1), int64(3)\n",
      "memory usage: 32.0 MB\n"
     ]
    }
   ],
   "source": [
    "ratings.info()"
   ]
  },
  {
   "cell_type": "markdown",
   "id": "2f633727",
   "metadata": {},
   "source": [
    "###  Descriptive analysis"
   ]
  },
  {
   "cell_type": "code",
   "execution_count": 13,
   "id": "67575e68",
   "metadata": {},
   "outputs": [
    {
     "data": {
      "text/html": [
       "<div>\n",
       "<style scoped>\n",
       "    .dataframe tbody tr th:only-of-type {\n",
       "        vertical-align: middle;\n",
       "    }\n",
       "\n",
       "    .dataframe tbody tr th {\n",
       "        vertical-align: top;\n",
       "    }\n",
       "\n",
       "    .dataframe thead th {\n",
       "        text-align: right;\n",
       "    }\n",
       "</style>\n",
       "<table border=\"1\" class=\"dataframe\">\n",
       "  <thead>\n",
       "    <tr style=\"text-align: right;\">\n",
       "      <th></th>\n",
       "      <th>budget</th>\n",
       "      <th>movieid</th>\n",
       "      <th>popularity</th>\n",
       "      <th>revenue</th>\n",
       "      <th>runtime</th>\n",
       "      <th>vote_average</th>\n",
       "      <th>vote_count</th>\n",
       "    </tr>\n",
       "  </thead>\n",
       "  <tbody>\n",
       "    <tr>\n",
       "      <th>count</th>\n",
       "      <td>45463.0</td>\n",
       "      <td>45463.0</td>\n",
       "      <td>45460.0</td>\n",
       "      <td>4.546000e+04</td>\n",
       "      <td>45203.0</td>\n",
       "      <td>45460.0</td>\n",
       "      <td>45460.0</td>\n",
       "    </tr>\n",
       "    <tr>\n",
       "      <th>mean</th>\n",
       "      <td>4224579.0</td>\n",
       "      <td>108360.0</td>\n",
       "      <td>3.0</td>\n",
       "      <td>1.120935e+07</td>\n",
       "      <td>94.0</td>\n",
       "      <td>6.0</td>\n",
       "      <td>110.0</td>\n",
       "    </tr>\n",
       "    <tr>\n",
       "      <th>std</th>\n",
       "      <td>17424133.0</td>\n",
       "      <td>112461.0</td>\n",
       "      <td>6.0</td>\n",
       "      <td>6.433225e+07</td>\n",
       "      <td>38.0</td>\n",
       "      <td>2.0</td>\n",
       "      <td>491.0</td>\n",
       "    </tr>\n",
       "    <tr>\n",
       "      <th>min</th>\n",
       "      <td>0.0</td>\n",
       "      <td>2.0</td>\n",
       "      <td>0.0</td>\n",
       "      <td>0.000000e+00</td>\n",
       "      <td>0.0</td>\n",
       "      <td>0.0</td>\n",
       "      <td>0.0</td>\n",
       "    </tr>\n",
       "    <tr>\n",
       "      <th>25%</th>\n",
       "      <td>0.0</td>\n",
       "      <td>26450.0</td>\n",
       "      <td>0.0</td>\n",
       "      <td>0.000000e+00</td>\n",
       "      <td>85.0</td>\n",
       "      <td>5.0</td>\n",
       "      <td>3.0</td>\n",
       "    </tr>\n",
       "    <tr>\n",
       "      <th>50%</th>\n",
       "      <td>0.0</td>\n",
       "      <td>60003.0</td>\n",
       "      <td>1.0</td>\n",
       "      <td>0.000000e+00</td>\n",
       "      <td>95.0</td>\n",
       "      <td>6.0</td>\n",
       "      <td>10.0</td>\n",
       "    </tr>\n",
       "    <tr>\n",
       "      <th>75%</th>\n",
       "      <td>0.0</td>\n",
       "      <td>157328.0</td>\n",
       "      <td>4.0</td>\n",
       "      <td>0.000000e+00</td>\n",
       "      <td>107.0</td>\n",
       "      <td>7.0</td>\n",
       "      <td>34.0</td>\n",
       "    </tr>\n",
       "    <tr>\n",
       "      <th>max</th>\n",
       "      <td>380000000.0</td>\n",
       "      <td>469172.0</td>\n",
       "      <td>547.0</td>\n",
       "      <td>2.787965e+09</td>\n",
       "      <td>1256.0</td>\n",
       "      <td>10.0</td>\n",
       "      <td>14075.0</td>\n",
       "    </tr>\n",
       "  </tbody>\n",
       "</table>\n",
       "</div>"
      ],
      "text/plain": [
       "            budget   movieid  popularity       revenue  runtime  vote_average  \\\n",
       "count      45463.0   45463.0     45460.0  4.546000e+04  45203.0       45460.0   \n",
       "mean     4224579.0  108360.0         3.0  1.120935e+07     94.0           6.0   \n",
       "std     17424133.0  112461.0         6.0  6.433225e+07     38.0           2.0   \n",
       "min            0.0       2.0         0.0  0.000000e+00      0.0           0.0   \n",
       "25%            0.0   26450.0         0.0  0.000000e+00     85.0           5.0   \n",
       "50%            0.0   60003.0         1.0  0.000000e+00     95.0           6.0   \n",
       "75%            0.0  157328.0         4.0  0.000000e+00    107.0           7.0   \n",
       "max    380000000.0  469172.0       547.0  2.787965e+09   1256.0          10.0   \n",
       "\n",
       "       vote_count  \n",
       "count     45460.0  \n",
       "mean        110.0  \n",
       "std         491.0  \n",
       "min           0.0  \n",
       "25%           3.0  \n",
       "50%          10.0  \n",
       "75%          34.0  \n",
       "max       14075.0  "
      ]
     },
     "execution_count": 13,
     "metadata": {},
     "output_type": "execute_result"
    }
   ],
   "source": [
    "movies.describe().round(0)"
   ]
  },
  {
   "cell_type": "code",
   "execution_count": 14,
   "id": "3bd4c8f5",
   "metadata": {},
   "outputs": [],
   "source": [
    "#movies.describe().round(0).to_csv(\"my_description.csv\")\n"
   ]
  },
  {
   "cell_type": "code",
   "execution_count": 15,
   "id": "573a301e",
   "metadata": {},
   "outputs": [
    {
     "data": {
      "text/html": [
       "<div>\n",
       "<style scoped>\n",
       "    .dataframe tbody tr th:only-of-type {\n",
       "        vertical-align: middle;\n",
       "    }\n",
       "\n",
       "    .dataframe tbody tr th {\n",
       "        vertical-align: top;\n",
       "    }\n",
       "\n",
       "    .dataframe thead th {\n",
       "        text-align: right;\n",
       "    }\n",
       "</style>\n",
       "<table border=\"1\" class=\"dataframe\">\n",
       "  <thead>\n",
       "    <tr style=\"text-align: right;\">\n",
       "      <th></th>\n",
       "      <th>userId</th>\n",
       "      <th>movieid</th>\n",
       "      <th>rating</th>\n",
       "      <th>timestamp</th>\n",
       "    </tr>\n",
       "  </thead>\n",
       "  <tbody>\n",
       "    <tr>\n",
       "      <th>count</th>\n",
       "      <td>1048575.0</td>\n",
       "      <td>1048575.0</td>\n",
       "      <td>1048575.0</td>\n",
       "      <td>1.048575e+06</td>\n",
       "    </tr>\n",
       "    <tr>\n",
       "      <th>mean</th>\n",
       "      <td>5379.0</td>\n",
       "      <td>16159.0</td>\n",
       "      <td>4.0</td>\n",
       "      <td>1.173062e+09</td>\n",
       "    </tr>\n",
       "    <tr>\n",
       "      <th>std</th>\n",
       "      <td>3065.0</td>\n",
       "      <td>31267.0</td>\n",
       "      <td>1.0</td>\n",
       "      <td>2.045386e+08</td>\n",
       "    </tr>\n",
       "    <tr>\n",
       "      <th>min</th>\n",
       "      <td>1.0</td>\n",
       "      <td>1.0</td>\n",
       "      <td>0.0</td>\n",
       "      <td>8.255829e+08</td>\n",
       "    </tr>\n",
       "    <tr>\n",
       "      <th>25%</th>\n",
       "      <td>2728.0</td>\n",
       "      <td>1080.0</td>\n",
       "      <td>3.0</td>\n",
       "      <td>9.922286e+08</td>\n",
       "    </tr>\n",
       "    <tr>\n",
       "      <th>50%</th>\n",
       "      <td>5383.0</td>\n",
       "      <td>2642.0</td>\n",
       "      <td>4.0</td>\n",
       "      <td>1.159314e+09</td>\n",
       "    </tr>\n",
       "    <tr>\n",
       "      <th>75%</th>\n",
       "      <td>8060.0</td>\n",
       "      <td>6643.0</td>\n",
       "      <td>4.0</td>\n",
       "      <td>1.354659e+09</td>\n",
       "    </tr>\n",
       "    <tr>\n",
       "      <th>max</th>\n",
       "      <td>10656.0</td>\n",
       "      <td>176271.0</td>\n",
       "      <td>5.0</td>\n",
       "      <td>1.501822e+09</td>\n",
       "    </tr>\n",
       "  </tbody>\n",
       "</table>\n",
       "</div>"
      ],
      "text/plain": [
       "          userId    movieid     rating     timestamp\n",
       "count  1048575.0  1048575.0  1048575.0  1.048575e+06\n",
       "mean      5379.0    16159.0        4.0  1.173062e+09\n",
       "std       3065.0    31267.0        1.0  2.045386e+08\n",
       "min          1.0        1.0        0.0  8.255829e+08\n",
       "25%       2728.0     1080.0        3.0  9.922286e+08\n",
       "50%       5383.0     2642.0        4.0  1.159314e+09\n",
       "75%       8060.0     6643.0        4.0  1.354659e+09\n",
       "max      10656.0   176271.0        5.0  1.501822e+09"
      ]
     },
     "execution_count": 15,
     "metadata": {},
     "output_type": "execute_result"
    }
   ],
   "source": [
    "ratings.describe().round(0)"
   ]
  },
  {
   "cell_type": "code",
   "execution_count": 16,
   "id": "c304dfa4",
   "metadata": {},
   "outputs": [],
   "source": [
    "#ratings.describe().round(0).to_csv(\"my_description1.csv\")"
   ]
  },
  {
   "cell_type": "code",
   "execution_count": 17,
   "id": "f35c6949",
   "metadata": {},
   "outputs": [],
   "source": [
    "movies[\"original_language\"] = movies[\"original_language\"].astype(\"category\")\n",
    "movies[\"spoken_languages\"] = movies[\"spoken_languages\"].astype(\"category\")\n",
    "movies[\"status\"] = movies[\"status\"].astype(\"category\")\n",
    "movies['popularity'] = movies['popularity'].astype('float')\n",
    "movies['budget'] = pd.to_numeric(movies['budget']) \n",
    "movies['popularity'] = movies['popularity'].astype('float')"
   ]
  },
  {
   "cell_type": "code",
   "execution_count": 18,
   "id": "3bcac1e7",
   "metadata": {},
   "outputs": [
    {
     "name": "stdout",
     "output_type": "stream",
     "text": [
      "<class 'pandas.core.frame.DataFrame'>\n",
      "RangeIndex: 45463 entries, 0 to 45462\n",
      "Data columns (total 19 columns):\n",
      " #   Column                Non-Null Count  Dtype   \n",
      "---  ------                --------------  -----   \n",
      " 0   adult                 45463 non-null  bool    \n",
      " 1   budget                45463 non-null  int64   \n",
      " 2   genres                45463 non-null  object  \n",
      " 3   movieid               45463 non-null  int64   \n",
      " 4   imdb_id               45446 non-null  object  \n",
      " 5   original_language     45452 non-null  category\n",
      " 6   overview              44509 non-null  object  \n",
      " 7   popularity            45460 non-null  float64 \n",
      " 8   production_companies  45460 non-null  object  \n",
      " 9   production_countries  45460 non-null  object  \n",
      " 10  release_date          45376 non-null  object  \n",
      " 11  revenue               45460 non-null  float64 \n",
      " 12  runtime               45203 non-null  float64 \n",
      " 13  spoken_languages      45460 non-null  category\n",
      " 14  status                45379 non-null  category\n",
      " 15  title                 45460 non-null  object  \n",
      " 16  video                 45460 non-null  object  \n",
      " 17  vote_average          45460 non-null  float64 \n",
      " 18  vote_count            45460 non-null  float64 \n",
      "dtypes: bool(1), category(3), float64(5), int64(2), object(8)\n",
      "memory usage: 5.5+ MB\n"
     ]
    }
   ],
   "source": [
    "movies.info()"
   ]
  },
  {
   "cell_type": "code",
   "execution_count": 19,
   "id": "ce32c9f5",
   "metadata": {},
   "outputs": [
    {
     "name": "stdout",
     "output_type": "stream",
     "text": [
      "count        45379\n",
      "unique           6\n",
      "top       Released\n",
      "freq         45014\n",
      "Name: status, dtype: object\n",
      "count       45452\n",
      "unique         89\n",
      "top       english\n",
      "freq        32269\n",
      "Name: original_language, dtype: object\n",
      "count                                        45460\n",
      "unique                                        1931\n",
      "top       [{'iso_639_1': 'en', 'name': 'English'}]\n",
      "freq                                         22395\n",
      "Name: spoken_languages, dtype: object\n"
     ]
    }
   ],
   "source": [
    "print(movies['status'].describe())\n",
    "print(movies['original_language'].describe())\n",
    "print(movies['spoken_languages'].describe())\n"
   ]
  },
  {
   "cell_type": "code",
   "execution_count": 20,
   "id": "f97f89d4",
   "metadata": {},
   "outputs": [
    {
     "name": "stdout",
     "output_type": "stream",
     "text": [
      "adult                     0\n",
      "budget                    0\n",
      "genres                    0\n",
      "movieid                   0\n",
      "imdb_id                  17\n",
      "original_language        11\n",
      "overview                954\n",
      "popularity                3\n",
      "production_companies      3\n",
      "production_countries      3\n",
      "release_date             87\n",
      "revenue                   3\n",
      "runtime                 260\n",
      "spoken_languages          3\n",
      "status                   84\n",
      "title                     3\n",
      "video                     3\n",
      "vote_average              3\n",
      "vote_count                3\n",
      "dtype: int64\n"
     ]
    }
   ],
   "source": [
    "print(movies.isnull().sum())\n",
    "movies.isnull().sum().to_csv(\"null.csv\")\n",
    "\n"
   ]
  },
  {
   "cell_type": "code",
   "execution_count": 21,
   "id": "4ab35f61",
   "metadata": {},
   "outputs": [],
   "source": [
    "movies = movies.dropna()"
   ]
  },
  {
   "cell_type": "code",
   "execution_count": 22,
   "id": "3dc7d720",
   "metadata": {},
   "outputs": [
    {
     "name": "stdout",
     "output_type": "stream",
     "text": [
      "adult                   0\n",
      "budget                  0\n",
      "genres                  0\n",
      "movieid                 0\n",
      "imdb_id                 0\n",
      "original_language       0\n",
      "overview                0\n",
      "popularity              0\n",
      "production_companies    0\n",
      "production_countries    0\n",
      "release_date            0\n",
      "revenue                 0\n",
      "runtime                 0\n",
      "spoken_languages        0\n",
      "status                  0\n",
      "title                   0\n",
      "video                   0\n",
      "vote_average            0\n",
      "vote_count              0\n",
      "dtype: int64\n"
     ]
    }
   ],
   "source": [
    "print(movies.isnull().sum())"
   ]
  },
  {
   "cell_type": "code",
   "execution_count": 23,
   "id": "2eda27c5",
   "metadata": {},
   "outputs": [
    {
     "name": "stdout",
     "output_type": "stream",
     "text": [
      "userId       0\n",
      "movieid      0\n",
      "rating       0\n",
      "timestamp    0\n",
      "dtype: int64\n"
     ]
    }
   ],
   "source": [
    "print(ratings.isnull().sum())"
   ]
  },
  {
   "cell_type": "code",
   "execution_count": 24,
   "id": "d3bc19f5",
   "metadata": {},
   "outputs": [
    {
     "data": {
      "text/plain": [
       "17"
      ]
     },
     "execution_count": 24,
     "metadata": {},
     "output_type": "execute_result"
    }
   ],
   "source": [
    "movies.duplicated().sum()"
   ]
  },
  {
   "cell_type": "code",
   "execution_count": 25,
   "id": "a7c780b5",
   "metadata": {},
   "outputs": [],
   "source": [
    "movies.drop_duplicates(inplace = True)"
   ]
  },
  {
   "cell_type": "code",
   "execution_count": 26,
   "id": "589e27e4",
   "metadata": {},
   "outputs": [
    {
     "data": {
      "text/plain": [
       "0"
      ]
     },
     "execution_count": 26,
     "metadata": {},
     "output_type": "execute_result"
    }
   ],
   "source": [
    "movies.duplicated().sum()"
   ]
  },
  {
   "cell_type": "code",
   "execution_count": 27,
   "id": "878633de",
   "metadata": {},
   "outputs": [
    {
     "data": {
      "text/plain": [
       "0"
      ]
     },
     "execution_count": 27,
     "metadata": {},
     "output_type": "execute_result"
    }
   ],
   "source": [
    "ratings.duplicated().sum()"
   ]
  },
  {
   "cell_type": "code",
   "execution_count": 28,
   "id": "d4d3144e",
   "metadata": {},
   "outputs": [
    {
     "data": {
      "text/plain": [
       "<AxesSubplot:xlabel='rating'>"
      ]
     },
     "execution_count": 28,
     "metadata": {},
     "output_type": "execute_result"
    },
    {
     "data": {
      "image/png": "[encoded data removed]",
      "text/plain": [
       "<Figure size 432x288 with 1 Axes>"
      ]
     },
     "metadata": {
      "needs_background": "light"
     },
     "output_type": "display_data"
    }
   ],
   "source": [
    "sb.boxplot(x=ratings['rating'])"
   ]
  },
  {
   "cell_type": "code",
   "execution_count": 29,
   "id": "22f30259",
   "metadata": {},
   "outputs": [],
   "source": [
    "# To recommend a good movie there needs to be a metric or rating, so a score is needed for each movie, \n",
    "#take the scores and use that data to recommend the best movies.\n",
    "#So minimum rating average is approximately 6"
   ]
  },
  {
   "cell_type": "code",
   "execution_count": 30,
   "id": "873dec50",
   "metadata": {},
   "outputs": [
    {
     "data": {
      "text/plain": [
       "5.646896147252264"
      ]
     },
     "execution_count": 30,
     "metadata": {},
     "output_type": "execute_result"
    }
   ],
   "source": [
    "C = movies['vote_average'].mean()\n",
    "C"
   ]
  },
  {
   "cell_type": "code",
   "execution_count": 31,
   "id": "f28bc5bf",
   "metadata": {},
   "outputs": [],
   "source": [
    "#Find the minimum amount of votes to be listed.\n",
    "#Find the movies that have at least 90% more votes than the others."
   ]
  },
  {
   "cell_type": "code",
   "execution_count": 32,
   "id": "6da61c3a",
   "metadata": {},
   "outputs": [
    {
     "data": {
      "text/plain": [
       "166.0"
      ]
     },
     "execution_count": 32,
     "metadata": {},
     "output_type": "execute_result"
    }
   ],
   "source": [
    "m = movies['vote_count'].quantile(0.9)\n",
    "m"
   ]
  },
  {
   "cell_type": "code",
   "execution_count": 33,
   "id": "963139a8",
   "metadata": {},
   "outputs": [
    {
     "data": {
      "text/plain": [
       "(4435, 19)"
      ]
     },
     "execution_count": 33,
     "metadata": {},
     "output_type": "execute_result"
    }
   ],
   "source": [
    "#Using these last 2 values \n",
    "#I can now add them to the weighted rating formula to get a list of movies that will be recommended.\n",
    "lists_movies =movies.copy().loc[movies['vote_count'] >= m]\n",
    "\n",
    "lists_movies.shape"
   ]
  },
  {
   "cell_type": "code",
   "execution_count": 34,
   "id": "6a7e6f27",
   "metadata": {},
   "outputs": [],
   "source": [
    "#Now I have new list of highest rated movies (4555)"
   ]
  },
  {
   "cell_type": "code",
   "execution_count": 37,
   "id": "5608456f",
   "metadata": {},
   "outputs": [],
   "source": [
    "movies.corr()\n",
    "#movies.corr().to_csv(\"corr.csv\")"
   ]
  },
  {
   "cell_type": "code",
   "execution_count": 36,
   "id": "5e504be4",
   "metadata": {},
   "outputs": [
    {
     "data": {
      "text/plain": [
       "<AxesSubplot:>"
      ]
     },
     "execution_count": 36,
     "metadata": {},
     "output_type": "execute_result"
    },
    {
     "data": {
      "image/png": "[encoded data removed]",
      "text/plain": [
       "<Figure size 432x288 with 2 Axes>"
      ]
     },
     "metadata": {
      "needs_background": "light"
     },
     "output_type": "display_data"
    }
   ],
   "source": [
    " sb.heatmap(movies.corr())"
   ]
  },
  {
   "cell_type": "code",
   "execution_count": 33,
   "id": "a596c7c7",
   "metadata": {},
   "outputs": [
    {
     "data": {
      "text/plain": [
       "english     32052\n",
       "french       2277\n",
       "japenese     1345\n",
       "italian      1264\n",
       "german        961\n",
       "            ...  \n",
       "fy              1\n",
       "eo              1\n",
       "cy              1\n",
       "ay              1\n",
       "zu              1\n",
       "Name: original_language, Length: 89, dtype: int64"
      ]
     },
     "execution_count": 33,
     "metadata": {},
     "output_type": "execute_result"
    }
   ],
   "source": [
    "movies['original_language'].value_counts()"
   ]
  },
  {
   "cell_type": "code",
   "execution_count": 34,
   "id": "c95a0070",
   "metadata": {},
   "outputs": [
    {
     "data": {
      "text/plain": [
       "Released           43994\n",
       "Rumored              213\n",
       "Post Production       96\n",
       "In Production         16\n",
       "Planned               12\n",
       "Canceled               1\n",
       "Name: status, dtype: int64"
      ]
     },
     "execution_count": 34,
     "metadata": {},
     "output_type": "execute_result"
    }
   ],
   "source": [
    "movies['status'].value_counts()"
   ]
  },
  {
   "cell_type": "code",
   "execution_count": 142,
   "id": "d591c1d6",
   "metadata": {},
   "outputs": [
    {
     "data": {
      "image/png": "[encoded data removed]",
      "text/plain": [
       "<Figure size 432x288 with 1 Axes>"
      ]
     },
     "metadata": {
      "needs_background": "light"
     },
     "output_type": "display_data"
    }
   ],
   "source": [
    "cols = ['title', 'budget']\n",
    "budget_movies = movies.sort_values('budget', ascending=False)[cols].set_index('title')\n",
    "top_5 = budget_movies.head(5)\n",
    "sb.barplot(data=top_5, x=top_5.index, y='budget');\n",
    "plt.xticks(ha='left', rotation=-20, fontsize=15); plt.yticks(fontsize=15)\n",
    "plt.title('Top 5 Highest Budget Movies', fontsize=15);"
   ]
  },
  {
   "cell_type": "code",
   "execution_count": 36,
   "id": "8f28cae2",
   "metadata": {},
   "outputs": [
    {
     "data": {
      "image/png": "[encoded data removed]",
      "text/plain": [
       "<Figure size 432x288 with 1 Axes>"
      ]
     },
     "metadata": {
      "needs_background": "light"
     },
     "output_type": "display_data"
    }
   ],
   "source": [
    "cols = ['title', 'popularity']\n",
    "popularity_movies = movies.sort_values('popularity', ascending=False)[cols].set_index('title')\n",
    "top_5 = popularity_movies.head(5)\n",
    "sb.barplot(data=top_5, x=top_5.index, y='popularity');\n",
    "plt.xticks(ha='left', rotation=-20, fontsize=15); plt.yticks(fontsize=15)\n",
    "plt.title('Top 5 Highest Voted Movies', fontsize=15);"
   ]
  },
  {
   "cell_type": "code",
   "execution_count": 136,
   "id": "cb1a21ba",
   "metadata": {},
   "outputs": [
    {
     "data": {
      "text/plain": [
       "<AxesSubplot:xlabel='vote_average'>"
      ]
     },
     "execution_count": 136,
     "metadata": {},
     "output_type": "execute_result"
    },
    {
     "data": {
      "image/png": "[encoded data removed]",
      "text/plain": [
       "<Figure size 432x288 with 1 Axes>"
      ]
     },
     "metadata": {
      "needs_background": "light"
     },
     "output_type": "display_data"
    }
   ],
   "source": [
    "sb.boxplot(x=movies['vote_average'])"
   ]
  },
  {
   "cell_type": "code",
   "execution_count": 139,
   "id": "cffe3251",
   "metadata": {},
   "outputs": [
    {
     "data": {
      "text/plain": [
       "<function matplotlib.pyplot.show(close=None, block=None)>"
      ]
     },
     "execution_count": 139,
     "metadata": {},
     "output_type": "execute_result"
    },
    {
     "data": {
      "image/png": "[encoded data removed]",
      "text/plain": [
       "<Figure size 432x288 with 1 Axes>"
      ]
     },
     "metadata": {
      "needs_background": "light"
     },
     "output_type": "display_data"
    }
   ],
   "source": [
    "plt.hist(movies['vote_average'])\n",
    "plt.xlabel(\"vote average\")\n",
    "plt.ylabel(\"no. of users\")\n",
    "plt.show"
   ]
  },
  {
   "cell_type": "code",
   "execution_count": 97,
   "id": "1c03e14b",
   "metadata": {},
   "outputs": [
    {
     "data": {
      "text/plain": [
       "Text(0.5, 1.0, 'Popular Movies')"
      ]
     },
     "execution_count": 97,
     "metadata": {},
     "output_type": "execute_result"
    },
    {
     "data": {
      "image/png": "[encoded data removed]",
      "text/plain": [
       "<Figure size 864x288 with 1 Axes>"
      ]
     },
     "metadata": {
      "needs_background": "light"
     },
     "output_type": "display_data"
    }
   ],
   "source": [
    "pop= movies.sort_values('popularity', ascending=False)\n",
    "\n",
    "plt.figure(figsize=(12,4))\n",
    "plt.barh(pop['title'].head(10),pop['popularity'].head(10), align='center',color='mediumpurple')\n",
    "plt.gca().invert_yaxis()\n",
    "plt.xlabel(\"Popularity\")\n",
    "plt.title(\"Popular Movies\")"
   ]
  },
  {
   "cell_type": "code",
   "execution_count": 140,
   "id": "98f80dc7",
   "metadata": {},
   "outputs": [
    {
     "data": {
      "text/plain": [
       "<function matplotlib.pyplot.show(close=None, block=None)>"
      ]
     },
     "execution_count": 140,
     "metadata": {},
     "output_type": "execute_result"
    },
    {
     "data": {
      "image/png": "[encoded data removed]",
      "text/plain": [
       "<Figure size 432x288 with 1 Axes>"
      ]
     },
     "metadata": {
      "needs_background": "light"
     },
     "output_type": "display_data"
    }
   ],
   "source": [
    "plt.hist(ratings['rating'])\n",
    "plt.xlabel(\"total no. of ratings\")\n",
    "plt.ylabel(\"no. of ratings by users\")\n",
    "plt.show"
   ]
  },
  {
   "cell_type": "code",
   "execution_count": 100,
   "id": "497a36b3",
   "metadata": {},
   "outputs": [],
   "source": [
    "no_user_voted = ratings.groupby('movieid')['rating'].agg('count')\n",
    "no_movies_voted = ratings.groupby('userId')['rating'].agg('count')"
   ]
  },
  {
   "cell_type": "code",
   "execution_count": 143,
   "id": "f2a52423",
   "metadata": {},
   "outputs": [
    {
     "data": {
      "image/png": "[encoded data removed]",
      "text/plain": [
       "<Figure size 1152x288 with 1 Axes>"
      ]
     },
     "metadata": {
      "needs_background": "light"
     },
     "output_type": "display_data"
    }
   ],
   "source": [
    "f,ax = plt.subplots(1,1,figsize=(16,4))\n",
    "# ratings['rating'].plot(kind='hist')\n",
    "plt.scatter(no_user_voted.index,no_user_voted,color='blue')\n",
    "plt.axhline(y=10,color='r')\n",
    "plt.xlabel('MovieId')\n",
    "plt.ylabel('No. of users voted')\n",
    "plt.show()"
   ]
  },
  {
   "cell_type": "code",
   "execution_count": 144,
   "id": "c6521ee4",
   "metadata": {},
   "outputs": [
    {
     "data": {
      "image/png": "[encoded data removed]",
      "text/plain": [
       "<Figure size 1152x288 with 1 Axes>"
      ]
     },
     "metadata": {
      "needs_background": "light"
     },
     "output_type": "display_data"
    }
   ],
   "source": [
    "f,ax = plt.subplots(1,1,figsize=(16,4))\n",
    "plt.scatter(no_movies_voted.index,no_movies_voted,color='blue')\n",
    "plt.axhline(y=50,color='r')\n",
    "plt.xlabel('UserId')\n",
    "plt.ylabel('No. of votes by user')\n",
    "plt.show()"
   ]
  },
  {
   "cell_type": "code",
   "execution_count": 37,
   "id": "1870e852",
   "metadata": {},
   "outputs": [
    {
     "data": {
      "text/html": [
       "<div>\n",
       "<style scoped>\n",
       "    .dataframe tbody tr th:only-of-type {\n",
       "        vertical-align: middle;\n",
       "    }\n",
       "\n",
       "    .dataframe tbody tr th {\n",
       "        vertical-align: top;\n",
       "    }\n",
       "\n",
       "    .dataframe thead th {\n",
       "        text-align: right;\n",
       "    }\n",
       "</style>\n",
       "<table border=\"1\" class=\"dataframe\">\n",
       "  <thead>\n",
       "    <tr style=\"text-align: right;\">\n",
       "      <th></th>\n",
       "      <th>userId</th>\n",
       "      <th>movieid</th>\n",
       "      <th>rating</th>\n",
       "      <th>timestamp</th>\n",
       "      <th>adult</th>\n",
       "      <th>budget</th>\n",
       "      <th>genres</th>\n",
       "      <th>imdb_id</th>\n",
       "      <th>original_language</th>\n",
       "      <th>overview</th>\n",
       "      <th>...</th>\n",
       "      <th>production_countries</th>\n",
       "      <th>release_date</th>\n",
       "      <th>revenue</th>\n",
       "      <th>runtime</th>\n",
       "      <th>spoken_languages</th>\n",
       "      <th>status</th>\n",
       "      <th>title</th>\n",
       "      <th>video</th>\n",
       "      <th>vote_average</th>\n",
       "      <th>vote_count</th>\n",
       "    </tr>\n",
       "  </thead>\n",
       "  <tbody>\n",
       "    <tr>\n",
       "      <th>0</th>\n",
       "      <td>1</td>\n",
       "      <td>110</td>\n",
       "      <td>1.0</td>\n",
       "      <td>1425941529</td>\n",
       "      <td>False</td>\n",
       "      <td>0</td>\n",
       "      <td>[{'id': 18, 'name': 'Drama'}, {'id': 9648, 'na...</td>\n",
       "      <td>tt0111495</td>\n",
       "      <td>french</td>\n",
       "      <td>Red This is the third film from the trilogy by...</td>\n",
       "      <td>...</td>\n",
       "      <td>[{'iso_3166_1': 'FR', 'name': 'France'}, {'iso...</td>\n",
       "      <td>27-05-1994</td>\n",
       "      <td>0.0</td>\n",
       "      <td>99.0</td>\n",
       "      <td>[{'iso_639_1': 'fr', 'name': 'Français'}]</td>\n",
       "      <td>Released</td>\n",
       "      <td>Three Colors: Red</td>\n",
       "      <td>False</td>\n",
       "      <td>7.8</td>\n",
       "      <td>246.0</td>\n",
       "    </tr>\n",
       "    <tr>\n",
       "      <th>1</th>\n",
       "      <td>11</td>\n",
       "      <td>110</td>\n",
       "      <td>3.5</td>\n",
       "      <td>1231676989</td>\n",
       "      <td>False</td>\n",
       "      <td>0</td>\n",
       "      <td>[{'id': 18, 'name': 'Drama'}, {'id': 9648, 'na...</td>\n",
       "      <td>tt0111495</td>\n",
       "      <td>french</td>\n",
       "      <td>Red This is the third film from the trilogy by...</td>\n",
       "      <td>...</td>\n",
       "      <td>[{'iso_3166_1': 'FR', 'name': 'France'}, {'iso...</td>\n",
       "      <td>27-05-1994</td>\n",
       "      <td>0.0</td>\n",
       "      <td>99.0</td>\n",
       "      <td>[{'iso_639_1': 'fr', 'name': 'Français'}]</td>\n",
       "      <td>Released</td>\n",
       "      <td>Three Colors: Red</td>\n",
       "      <td>False</td>\n",
       "      <td>7.8</td>\n",
       "      <td>246.0</td>\n",
       "    </tr>\n",
       "    <tr>\n",
       "      <th>2</th>\n",
       "      <td>22</td>\n",
       "      <td>110</td>\n",
       "      <td>5.0</td>\n",
       "      <td>1111937009</td>\n",
       "      <td>False</td>\n",
       "      <td>0</td>\n",
       "      <td>[{'id': 18, 'name': 'Drama'}, {'id': 9648, 'na...</td>\n",
       "      <td>tt0111495</td>\n",
       "      <td>french</td>\n",
       "      <td>Red This is the third film from the trilogy by...</td>\n",
       "      <td>...</td>\n",
       "      <td>[{'iso_3166_1': 'FR', 'name': 'France'}, {'iso...</td>\n",
       "      <td>27-05-1994</td>\n",
       "      <td>0.0</td>\n",
       "      <td>99.0</td>\n",
       "      <td>[{'iso_639_1': 'fr', 'name': 'Français'}]</td>\n",
       "      <td>Released</td>\n",
       "      <td>Three Colors: Red</td>\n",
       "      <td>False</td>\n",
       "      <td>7.8</td>\n",
       "      <td>246.0</td>\n",
       "    </tr>\n",
       "  </tbody>\n",
       "</table>\n",
       "<p>3 rows × 22 columns</p>\n",
       "</div>"
      ],
      "text/plain": [
       "   userId  movieid  rating   timestamp  adult  budget  \\\n",
       "0       1      110     1.0  1425941529  False       0   \n",
       "1      11      110     3.5  1231676989  False       0   \n",
       "2      22      110     5.0  1111937009  False       0   \n",
       "\n",
       "                                              genres    imdb_id  \\\n",
       "0  [{'id': 18, 'name': 'Drama'}, {'id': 9648, 'na...  tt0111495   \n",
       "1  [{'id': 18, 'name': 'Drama'}, {'id': 9648, 'na...  tt0111495   \n",
       "2  [{'id': 18, 'name': 'Drama'}, {'id': 9648, 'na...  tt0111495   \n",
       "\n",
       "  original_language                                           overview  ...  \\\n",
       "0            french  Red This is the third film from the trilogy by...  ...   \n",
       "1            french  Red This is the third film from the trilogy by...  ...   \n",
       "2            french  Red This is the third film from the trilogy by...  ...   \n",
       "\n",
       "                                production_countries release_date revenue  \\\n",
       "0  [{'iso_3166_1': 'FR', 'name': 'France'}, {'iso...   27-05-1994     0.0   \n",
       "1  [{'iso_3166_1': 'FR', 'name': 'France'}, {'iso...   27-05-1994     0.0   \n",
       "2  [{'iso_3166_1': 'FR', 'name': 'France'}, {'iso...   27-05-1994     0.0   \n",
       "\n",
       "  runtime                           spoken_languages    status  \\\n",
       "0    99.0  [{'iso_639_1': 'fr', 'name': 'Français'}]  Released   \n",
       "1    99.0  [{'iso_639_1': 'fr', 'name': 'Français'}]  Released   \n",
       "2    99.0  [{'iso_639_1': 'fr', 'name': 'Français'}]  Released   \n",
       "\n",
       "               title  video vote_average vote_count  \n",
       "0  Three Colors: Red  False          7.8      246.0  \n",
       "1  Three Colors: Red  False          7.8      246.0  \n",
       "2  Three Colors: Red  False          7.8      246.0  \n",
       "\n",
       "[3 rows x 22 columns]"
      ]
     },
     "execution_count": 37,
     "metadata": {},
     "output_type": "execute_result"
    }
   ],
   "source": [
    "movie_data=pd.merge(ratings,movies,on='movieid')\n",
    "movie_data.head(3)"
   ]
  },
  {
   "cell_type": "code",
   "execution_count": 38,
   "id": "e3fb07f6",
   "metadata": {},
   "outputs": [
    {
     "data": {
      "text/html": [
       "<div>\n",
       "<style scoped>\n",
       "    .dataframe tbody tr th:only-of-type {\n",
       "        vertical-align: middle;\n",
       "    }\n",
       "\n",
       "    .dataframe tbody tr th {\n",
       "        vertical-align: top;\n",
       "    }\n",
       "\n",
       "    .dataframe thead th {\n",
       "        text-align: right;\n",
       "    }\n",
       "</style>\n",
       "<table border=\"1\" class=\"dataframe\">\n",
       "  <thead>\n",
       "    <tr style=\"text-align: right;\">\n",
       "      <th></th>\n",
       "      <th>rating</th>\n",
       "      <th>total number of ratings</th>\n",
       "    </tr>\n",
       "    <tr>\n",
       "      <th>title</th>\n",
       "      <th></th>\n",
       "      <th></th>\n",
       "    </tr>\n",
       "  </thead>\n",
       "  <tbody>\n",
       "    <tr>\n",
       "      <th>!Women Art Revolution</th>\n",
       "      <td>3.014706</td>\n",
       "      <td>34</td>\n",
       "    </tr>\n",
       "    <tr>\n",
       "      <th>$5 a Day</th>\n",
       "      <td>2.000000</td>\n",
       "      <td>8</td>\n",
       "    </tr>\n",
       "    <tr>\n",
       "      <th>'Gator Bait</th>\n",
       "      <td>3.583333</td>\n",
       "      <td>6</td>\n",
       "    </tr>\n",
       "    <tr>\n",
       "      <th>'R Xmas</th>\n",
       "      <td>3.666667</td>\n",
       "      <td>6</td>\n",
       "    </tr>\n",
       "    <tr>\n",
       "      <th>'Twas the Night Before Christmas</th>\n",
       "      <td>3.718750</td>\n",
       "      <td>16</td>\n",
       "    </tr>\n",
       "  </tbody>\n",
       "</table>\n",
       "</div>"
      ],
      "text/plain": [
       "                                    rating  total number of ratings\n",
       "title                                                              \n",
       "!Women Art Revolution             3.014706                       34\n",
       "$5 a Day                          2.000000                        8\n",
       "'Gator Bait                       3.583333                        6\n",
       "'R Xmas                           3.666667                        6\n",
       "'Twas the Night Before Christmas  3.718750                       16"
      ]
     },
     "execution_count": 38,
     "metadata": {},
     "output_type": "execute_result"
    }
   ],
   "source": [
    "trend=pd.DataFrame(movie_data.groupby('title')['rating'].mean())\n",
    "trend['total number of ratings'] = pd.DataFrame(movie_data.groupby('title')['rating'].count()) \n",
    "trend.head()"
   ]
  },
  {
   "cell_type": "code",
   "execution_count": 39,
   "id": "9fe68003",
   "metadata": {},
   "outputs": [
    {
     "data": {
      "image/png": "[encoded data removed]",
      "text/plain": [
       "<Figure size 720x288 with 1 Axes>"
      ]
     },
     "metadata": {
      "needs_background": "light"
     },
     "output_type": "display_data"
    }
   ],
   "source": [
    "plt.figure(figsize =(10, 4))\n",
    "ax=plt.barh(trend['rating'].round(),trend['total number of ratings'],color='b')\n",
    "plt.show()"
   ]
  },
  {
   "cell_type": "code",
   "execution_count": 40,
   "id": "8ec918b1",
   "metadata": {},
   "outputs": [
    {
     "data": {
      "text/html": [
       "<div>\n",
       "<style scoped>\n",
       "    .dataframe tbody tr th:only-of-type {\n",
       "        vertical-align: middle;\n",
       "    }\n",
       "\n",
       "    .dataframe tbody tr th {\n",
       "        vertical-align: top;\n",
       "    }\n",
       "\n",
       "    .dataframe thead th {\n",
       "        text-align: right;\n",
       "    }\n",
       "</style>\n",
       "<table border=\"1\" class=\"dataframe\">\n",
       "  <thead>\n",
       "    <tr style=\"text-align: right;\">\n",
       "      <th></th>\n",
       "      <th>count</th>\n",
       "    </tr>\n",
       "    <tr>\n",
       "      <th>rating</th>\n",
       "      <th></th>\n",
       "    </tr>\n",
       "  </thead>\n",
       "  <tbody>\n",
       "    <tr>\n",
       "      <th>0.5</th>\n",
       "      <td>5415</td>\n",
       "    </tr>\n",
       "    <tr>\n",
       "      <th>1.0</th>\n",
       "      <td>15453</td>\n",
       "    </tr>\n",
       "    <tr>\n",
       "      <th>1.5</th>\n",
       "      <td>5685</td>\n",
       "    </tr>\n",
       "    <tr>\n",
       "      <th>2.0</th>\n",
       "      <td>31980</td>\n",
       "    </tr>\n",
       "    <tr>\n",
       "      <th>2.5</th>\n",
       "      <td>19280</td>\n",
       "    </tr>\n",
       "    <tr>\n",
       "      <th>3.0</th>\n",
       "      <td>103157</td>\n",
       "    </tr>\n",
       "    <tr>\n",
       "      <th>3.5</th>\n",
       "      <td>47491</td>\n",
       "    </tr>\n",
       "    <tr>\n",
       "      <th>4.0</th>\n",
       "      <td>124523</td>\n",
       "    </tr>\n",
       "    <tr>\n",
       "      <th>4.5</th>\n",
       "      <td>32555</td>\n",
       "    </tr>\n",
       "    <tr>\n",
       "      <th>5.0</th>\n",
       "      <td>71034</td>\n",
       "    </tr>\n",
       "  </tbody>\n",
       "</table>\n",
       "</div>"
      ],
      "text/plain": [
       "         count\n",
       "rating        \n",
       "0.5       5415\n",
       "1.0      15453\n",
       "1.5       5685\n",
       "2.0      31980\n",
       "2.5      19280\n",
       "3.0     103157\n",
       "3.5      47491\n",
       "4.0     124523\n",
       "4.5      32555\n",
       "5.0      71034"
      ]
     },
     "execution_count": 40,
     "metadata": {},
     "output_type": "execute_result"
    }
   ],
   "source": [
    "rating_count_df = pd.DataFrame(movie_data.groupby(['rating']).size(), columns=['count'])\n",
    "rating_count_df\n",
    "\n"
   ]
  },
  {
   "cell_type": "code",
   "execution_count": 41,
   "id": "b8d65646",
   "metadata": {},
   "outputs": [
    {
     "data": {
      "text/plain": [
       "title\n",
       "Frida              5.0\n",
       "8MM                5.0\n",
       "Last Train Home    5.0\n",
       "Piggy              5.0\n",
       "Chimpanzee         5.0\n",
       "Name: rating, dtype: float64"
      ]
     },
     "execution_count": 41,
     "metadata": {},
     "output_type": "execute_result"
    }
   ],
   "source": [
    "movies1 = movie_data.groupby('title')['rating'].mean().sort_values(ascending=False).head()\n",
    "movies1.head()"
   ]
  },
  {
   "cell_type": "code",
   "execution_count": 42,
   "id": "7e7c818a",
   "metadata": {},
   "outputs": [],
   "source": [
    "from sklearn import preprocessing\n",
    "from sklearn.preprocessing import MinMaxScaler"
   ]
  },
  {
   "cell_type": "code",
   "execution_count": 43,
   "id": "1c137c05",
   "metadata": {},
   "outputs": [],
   "source": [
    "normalized = preprocessing.normalize(ratings)"
   ]
  },
  {
   "cell_type": "code",
   "execution_count": 44,
   "id": "5bdfef1d",
   "metadata": {},
   "outputs": [],
   "source": [
    "scaler =MinMaxScaler()"
   ]
  },
  {
   "cell_type": "code",
   "execution_count": 45,
   "id": "9fbf6d0e",
   "metadata": {},
   "outputs": [
    {
     "data": {
      "text/html": [
       "<div>\n",
       "<style scoped>\n",
       "    .dataframe tbody tr th:only-of-type {\n",
       "        vertical-align: middle;\n",
       "    }\n",
       "\n",
       "    .dataframe tbody tr th {\n",
       "        vertical-align: top;\n",
       "    }\n",
       "\n",
       "    .dataframe thead th {\n",
       "        text-align: right;\n",
       "    }\n",
       "</style>\n",
       "<table border=\"1\" class=\"dataframe\">\n",
       "  <thead>\n",
       "    <tr style=\"text-align: right;\">\n",
       "      <th></th>\n",
       "      <th>userId</th>\n",
       "      <th>movieid</th>\n",
       "      <th>rating</th>\n",
       "      <th>timestamp</th>\n",
       "    </tr>\n",
       "  </thead>\n",
       "  <tbody>\n",
       "    <tr>\n",
       "      <th>0</th>\n",
       "      <td>0.0</td>\n",
       "      <td>0.000618</td>\n",
       "      <td>0.111111</td>\n",
       "      <td>0.887790</td>\n",
       "    </tr>\n",
       "    <tr>\n",
       "      <th>1</th>\n",
       "      <td>0.0</td>\n",
       "      <td>0.000828</td>\n",
       "      <td>0.888889</td>\n",
       "      <td>0.887791</td>\n",
       "    </tr>\n",
       "    <tr>\n",
       "      <th>2</th>\n",
       "      <td>0.0</td>\n",
       "      <td>0.004862</td>\n",
       "      <td>1.000000</td>\n",
       "      <td>0.887790</td>\n",
       "    </tr>\n",
       "    <tr>\n",
       "      <th>3</th>\n",
       "      <td>0.0</td>\n",
       "      <td>0.006921</td>\n",
       "      <td>1.000000</td>\n",
       "      <td>0.887790</td>\n",
       "    </tr>\n",
       "    <tr>\n",
       "      <th>4</th>\n",
       "      <td>0.0</td>\n",
       "      <td>0.007063</td>\n",
       "      <td>1.000000</td>\n",
       "      <td>0.887790</td>\n",
       "    </tr>\n",
       "    <tr>\n",
       "      <th>...</th>\n",
       "      <td>...</td>\n",
       "      <td>...</td>\n",
       "      <td>...</td>\n",
       "      <td>...</td>\n",
       "    </tr>\n",
       "    <tr>\n",
       "      <th>1048570</th>\n",
       "      <td>1.0</td>\n",
       "      <td>0.009117</td>\n",
       "      <td>0.333333</td>\n",
       "      <td>0.120035</td>\n",
       "    </tr>\n",
       "    <tr>\n",
       "      <th>1048571</th>\n",
       "      <td>1.0</td>\n",
       "      <td>0.009128</td>\n",
       "      <td>0.555556</td>\n",
       "      <td>0.120035</td>\n",
       "    </tr>\n",
       "    <tr>\n",
       "      <th>1048572</th>\n",
       "      <td>1.0</td>\n",
       "      <td>0.009151</td>\n",
       "      <td>0.555556</td>\n",
       "      <td>0.120033</td>\n",
       "    </tr>\n",
       "    <tr>\n",
       "      <th>1048573</th>\n",
       "      <td>1.0</td>\n",
       "      <td>0.009162</td>\n",
       "      <td>0.111111</td>\n",
       "      <td>0.120035</td>\n",
       "    </tr>\n",
       "    <tr>\n",
       "      <th>1048574</th>\n",
       "      <td>1.0</td>\n",
       "      <td>0.009168</td>\n",
       "      <td>0.777778</td>\n",
       "      <td>0.120150</td>\n",
       "    </tr>\n",
       "  </tbody>\n",
       "</table>\n",
       "<p>1048575 rows × 4 columns</p>\n",
       "</div>"
      ],
      "text/plain": [
       "         userId   movieid    rating  timestamp\n",
       "0           0.0  0.000618  0.111111   0.887790\n",
       "1           0.0  0.000828  0.888889   0.887791\n",
       "2           0.0  0.004862  1.000000   0.887790\n",
       "3           0.0  0.006921  1.000000   0.887790\n",
       "4           0.0  0.007063  1.000000   0.887790\n",
       "...         ...       ...       ...        ...\n",
       "1048570     1.0  0.009117  0.333333   0.120035\n",
       "1048571     1.0  0.009128  0.555556   0.120035\n",
       "1048572     1.0  0.009151  0.555556   0.120033\n",
       "1048573     1.0  0.009162  0.111111   0.120035\n",
       "1048574     1.0  0.009168  0.777778   0.120150\n",
       "\n",
       "[1048575 rows x 4 columns]"
      ]
     },
     "execution_count": 45,
     "metadata": {},
     "output_type": "execute_result"
    }
   ],
   "source": [
    "scaled_df = pd.DataFrame(scaler.fit_transform(ratings),columns = ratings.columns)\n",
    "scaled_df"
   ]
  },
  {
   "cell_type": "code",
   "execution_count": 46,
   "id": "335928d5",
   "metadata": {},
   "outputs": [
    {
     "name": "stdout",
     "output_type": "stream",
     "text": [
      "         userId   movieid    rating  timestamp\n",
      "0           0.0  0.000618  0.111111   0.887790\n",
      "1           0.0  0.000828  0.888889   0.887791\n",
      "2           0.0  0.004862  1.000000   0.887790\n",
      "3           0.0  0.006921  1.000000   0.887790\n",
      "4           0.0  0.007063  1.000000   0.887790\n",
      "...         ...       ...       ...        ...\n",
      "1048570     1.0  0.009117  0.333333   0.120035\n",
      "1048571     1.0  0.009128  0.555556   0.120035\n",
      "1048572     1.0  0.009151  0.555556   0.120033\n",
      "1048573     1.0  0.009162  0.111111   0.120035\n",
      "1048574     1.0  0.009168  0.777778   0.120150\n",
      "\n",
      "[1048575 rows x 4 columns]\n"
     ]
    }
   ],
   "source": [
    "print(scaled_df)"
   ]
  },
  {
   "cell_type": "code",
   "execution_count": 47,
   "id": "da830cd3",
   "metadata": {},
   "outputs": [],
   "source": [
    "from sklearn.model_selection import train_test_split\n",
    "from sklearn.preprocessing import LabelEncoder"
   ]
  },
  {
   "cell_type": "markdown",
   "id": "1106ad6c",
   "metadata": {},
   "source": [
    "# Splitting the data into training and testing"
   ]
  },
  {
   "cell_type": "code",
   "execution_count": 48,
   "id": "80aaa7b8",
   "metadata": {},
   "outputs": [
    {
     "data": {
      "text/plain": [
       "((410915, 2), (45658, 2), (410915,), (45658,))"
      ]
     },
     "execution_count": 48,
     "metadata": {},
     "output_type": "execute_result"
    }
   ],
   "source": [
    "X = movie_data[['userId', 'movieid']].values\n",
    "y = movie_data['rating'].values\n",
    "X_train, X_test, y_train, y_test = train_test_split(X, y, test_size=0.1, random_state=50)\n",
    "X_train.shape, X_test.shape, y_train.shape, y_test.shape"
   ]
  },
  {
   "cell_type": "code",
   "execution_count": 49,
   "id": "6f3d98ec",
   "metadata": {},
   "outputs": [],
   "source": [
    "X_train_array = [X_train[:, 0], X_train[:, 1]]\n",
    "X_test_array = [X_test[:, 0], X_test[:, 1]]"
   ]
  },
  {
   "cell_type": "code",
   "execution_count": 50,
   "id": "84c15510",
   "metadata": {},
   "outputs": [
    {
     "data": {
      "text/plain": [
       "(array([[ 1288,  4896],\n",
       "        [10094,  2791],\n",
       "        [  640,  4993],\n",
       "        ...,\n",
       "        [ 8718,   466],\n",
       "        [ 3784,  2640],\n",
       "        [10485,  8645]], dtype=int64),\n",
       " [array([ 1288, 10094,   640, ...,  8718,  3784, 10485], dtype=int64),\n",
       "  array([4896, 2791, 4993, ...,  466, 2640, 8645], dtype=int64)],\n",
       " (410915,))"
      ]
     },
     "execution_count": 50,
     "metadata": {},
     "output_type": "execute_result"
    }
   ],
   "source": [
    "X_train, X_train_array, X_train_array[0].shape"
   ]
  },
  {
   "cell_type": "code",
   "execution_count": 51,
   "id": "9817a8c1",
   "metadata": {},
   "outputs": [],
   "source": [
    "#importing visualization libraries\n",
    "import seaborn as sns\n",
    "import matplotlib.pyplot as plt\n",
    "sns.set(font_scale = 1)\n",
    "plt.rcParams[\"axes.grid\"] = False\n",
    "#plt.style.use('dark_background')\n",
    "%matplotlib inline"
   ]
  },
  {
   "cell_type": "code",
   "execution_count": 52,
   "id": "d55887be",
   "metadata": {},
   "outputs": [
    {
     "data": {
      "text/html": [
       "<div>\n",
       "<style scoped>\n",
       "    .dataframe tbody tr th:only-of-type {\n",
       "        vertical-align: middle;\n",
       "    }\n",
       "\n",
       "    .dataframe tbody tr th {\n",
       "        vertical-align: top;\n",
       "    }\n",
       "\n",
       "    .dataframe thead th {\n",
       "        text-align: right;\n",
       "    }\n",
       "</style>\n",
       "<table border=\"1\" class=\"dataframe\">\n",
       "  <thead>\n",
       "    <tr style=\"text-align: right;\">\n",
       "      <th></th>\n",
       "      <th>title</th>\n",
       "      <th>Average Rating</th>\n",
       "    </tr>\n",
       "  </thead>\n",
       "  <tbody>\n",
       "    <tr>\n",
       "      <th>0</th>\n",
       "      <td>Frida</td>\n",
       "      <td>5.0</td>\n",
       "    </tr>\n",
       "    <tr>\n",
       "      <th>1</th>\n",
       "      <td>8MM</td>\n",
       "      <td>5.0</td>\n",
       "    </tr>\n",
       "    <tr>\n",
       "      <th>2</th>\n",
       "      <td>Last Train Home</td>\n",
       "      <td>5.0</td>\n",
       "    </tr>\n",
       "    <tr>\n",
       "      <th>3</th>\n",
       "      <td>Piggy</td>\n",
       "      <td>5.0</td>\n",
       "    </tr>\n",
       "    <tr>\n",
       "      <th>4</th>\n",
       "      <td>Chimpanzee</td>\n",
       "      <td>5.0</td>\n",
       "    </tr>\n",
       "  </tbody>\n",
       "</table>\n",
       "</div>"
      ],
      "text/plain": [
       "             title  Average Rating\n",
       "0            Frida             5.0\n",
       "1              8MM             5.0\n",
       "2  Last Train Home             5.0\n",
       "3            Piggy             5.0\n",
       "4       Chimpanzee             5.0"
      ]
     },
     "execution_count": 52,
     "metadata": {},
     "output_type": "execute_result"
    }
   ],
   "source": [
    "movies_average_rating=movie_data.groupby('title')['rating'].mean().sort_values(ascending=False).reset_index().rename(columns={'rating':'Average Rating'})\n",
    "movies_average_rating.head()"
   ]
  },
  {
   "cell_type": "code",
   "execution_count": 53,
   "id": "c52c23fa",
   "metadata": {},
   "outputs": [
    {
     "data": {
      "text/html": [
       "<div>\n",
       "<style scoped>\n",
       "    .dataframe tbody tr th:only-of-type {\n",
       "        vertical-align: middle;\n",
       "    }\n",
       "\n",
       "    .dataframe tbody tr th {\n",
       "        vertical-align: top;\n",
       "    }\n",
       "\n",
       "    .dataframe thead th {\n",
       "        text-align: right;\n",
       "    }\n",
       "</style>\n",
       "<table border=\"1\" class=\"dataframe\">\n",
       "  <thead>\n",
       "    <tr style=\"text-align: right;\">\n",
       "      <th></th>\n",
       "      <th>title</th>\n",
       "      <th>Rating Count</th>\n",
       "      <th>Average Rating</th>\n",
       "    </tr>\n",
       "  </thead>\n",
       "  <tbody>\n",
       "    <tr>\n",
       "      <th>0</th>\n",
       "      <td>Mr. Peabody &amp; Sherman</td>\n",
       "      <td>1</td>\n",
       "      <td>4.0</td>\n",
       "    </tr>\n",
       "    <tr>\n",
       "      <th>1</th>\n",
       "      <td>No One Killed Jessica</td>\n",
       "      <td>1</td>\n",
       "      <td>3.5</td>\n",
       "    </tr>\n",
       "    <tr>\n",
       "      <th>2</th>\n",
       "      <td>Magic</td>\n",
       "      <td>1</td>\n",
       "      <td>3.5</td>\n",
       "    </tr>\n",
       "    <tr>\n",
       "      <th>3</th>\n",
       "      <td>Magic Magic</td>\n",
       "      <td>1</td>\n",
       "      <td>3.0</td>\n",
       "    </tr>\n",
       "    <tr>\n",
       "      <th>4</th>\n",
       "      <td>Case départ</td>\n",
       "      <td>1</td>\n",
       "      <td>4.0</td>\n",
       "    </tr>\n",
       "  </tbody>\n",
       "</table>\n",
       "</div>"
      ],
      "text/plain": [
       "                   title  Rating Count  Average Rating\n",
       "0  Mr. Peabody & Sherman             1             4.0\n",
       "1  No One Killed Jessica             1             3.5\n",
       "2                  Magic             1             3.5\n",
       "3            Magic Magic             1             3.0\n",
       "4            Case départ             1             4.0"
      ]
     },
     "execution_count": 53,
     "metadata": {},
     "output_type": "execute_result"
    }
   ],
   "source": [
    "movies_rating_count=movie_data.groupby('title')['rating'].count().sort_values(ascending=True).reset_index().rename(columns={'rating':'Rating Count'}) #ascending=False\n",
    "movies_rating_count_avg=movies_rating_count.merge(movies_average_rating, on='title')\n",
    "movies_rating_count_avg.head()"
   ]
  },
  {
   "cell_type": "markdown",
   "id": "acb42fea",
   "metadata": {},
   "source": [
    "Eliminating Outliers"
   ]
  },
  {
   "cell_type": "code",
   "execution_count": 54,
   "id": "3bd695be",
   "metadata": {},
   "outputs": [
    {
     "data": {
      "text/html": [
       "<div>\n",
       "<style scoped>\n",
       "    .dataframe tbody tr th:only-of-type {\n",
       "        vertical-align: middle;\n",
       "    }\n",
       "\n",
       "    .dataframe tbody tr th {\n",
       "        vertical-align: top;\n",
       "    }\n",
       "\n",
       "    .dataframe thead th {\n",
       "        text-align: right;\n",
       "    }\n",
       "</style>\n",
       "<table border=\"1\" class=\"dataframe\">\n",
       "  <thead>\n",
       "    <tr style=\"text-align: right;\">\n",
       "      <th></th>\n",
       "      <th>userId</th>\n",
       "      <th>movieid</th>\n",
       "      <th>rating</th>\n",
       "      <th>timestamp</th>\n",
       "      <th>adult</th>\n",
       "      <th>budget</th>\n",
       "      <th>genres</th>\n",
       "      <th>imdb_id</th>\n",
       "      <th>original_language</th>\n",
       "      <th>overview</th>\n",
       "      <th>...</th>\n",
       "      <th>release_date</th>\n",
       "      <th>revenue</th>\n",
       "      <th>runtime</th>\n",
       "      <th>spoken_languages</th>\n",
       "      <th>status</th>\n",
       "      <th>title</th>\n",
       "      <th>video</th>\n",
       "      <th>vote_average</th>\n",
       "      <th>vote_count</th>\n",
       "      <th>Rating Count</th>\n",
       "    </tr>\n",
       "  </thead>\n",
       "  <tbody>\n",
       "    <tr>\n",
       "      <th>0</th>\n",
       "      <td>1</td>\n",
       "      <td>110</td>\n",
       "      <td>1.0</td>\n",
       "      <td>1425941529</td>\n",
       "      <td>False</td>\n",
       "      <td>0</td>\n",
       "      <td>[{'id': 18, 'name': 'Drama'}, {'id': 9648, 'na...</td>\n",
       "      <td>tt0111495</td>\n",
       "      <td>french</td>\n",
       "      <td>Red This is the third film from the trilogy by...</td>\n",
       "      <td>...</td>\n",
       "      <td>27-05-1994</td>\n",
       "      <td>0.0</td>\n",
       "      <td>99.0</td>\n",
       "      <td>[{'iso_639_1': 'fr', 'name': 'Français'}]</td>\n",
       "      <td>Released</td>\n",
       "      <td>Three Colors: Red</td>\n",
       "      <td>False</td>\n",
       "      <td>7.8</td>\n",
       "      <td>246.0</td>\n",
       "      <td>2594</td>\n",
       "    </tr>\n",
       "    <tr>\n",
       "      <th>1</th>\n",
       "      <td>11</td>\n",
       "      <td>110</td>\n",
       "      <td>3.5</td>\n",
       "      <td>1231676989</td>\n",
       "      <td>False</td>\n",
       "      <td>0</td>\n",
       "      <td>[{'id': 18, 'name': 'Drama'}, {'id': 9648, 'na...</td>\n",
       "      <td>tt0111495</td>\n",
       "      <td>french</td>\n",
       "      <td>Red This is the third film from the trilogy by...</td>\n",
       "      <td>...</td>\n",
       "      <td>27-05-1994</td>\n",
       "      <td>0.0</td>\n",
       "      <td>99.0</td>\n",
       "      <td>[{'iso_639_1': 'fr', 'name': 'Français'}]</td>\n",
       "      <td>Released</td>\n",
       "      <td>Three Colors: Red</td>\n",
       "      <td>False</td>\n",
       "      <td>7.8</td>\n",
       "      <td>246.0</td>\n",
       "      <td>2594</td>\n",
       "    </tr>\n",
       "    <tr>\n",
       "      <th>2</th>\n",
       "      <td>22</td>\n",
       "      <td>110</td>\n",
       "      <td>5.0</td>\n",
       "      <td>1111937009</td>\n",
       "      <td>False</td>\n",
       "      <td>0</td>\n",
       "      <td>[{'id': 18, 'name': 'Drama'}, {'id': 9648, 'na...</td>\n",
       "      <td>tt0111495</td>\n",
       "      <td>french</td>\n",
       "      <td>Red This is the third film from the trilogy by...</td>\n",
       "      <td>...</td>\n",
       "      <td>27-05-1994</td>\n",
       "      <td>0.0</td>\n",
       "      <td>99.0</td>\n",
       "      <td>[{'iso_639_1': 'fr', 'name': 'Français'}]</td>\n",
       "      <td>Released</td>\n",
       "      <td>Three Colors: Red</td>\n",
       "      <td>False</td>\n",
       "      <td>7.8</td>\n",
       "      <td>246.0</td>\n",
       "      <td>2594</td>\n",
       "    </tr>\n",
       "    <tr>\n",
       "      <th>3</th>\n",
       "      <td>24</td>\n",
       "      <td>110</td>\n",
       "      <td>5.0</td>\n",
       "      <td>979870012</td>\n",
       "      <td>False</td>\n",
       "      <td>0</td>\n",
       "      <td>[{'id': 18, 'name': 'Drama'}, {'id': 9648, 'na...</td>\n",
       "      <td>tt0111495</td>\n",
       "      <td>french</td>\n",
       "      <td>Red This is the third film from the trilogy by...</td>\n",
       "      <td>...</td>\n",
       "      <td>27-05-1994</td>\n",
       "      <td>0.0</td>\n",
       "      <td>99.0</td>\n",
       "      <td>[{'iso_639_1': 'fr', 'name': 'Français'}]</td>\n",
       "      <td>Released</td>\n",
       "      <td>Three Colors: Red</td>\n",
       "      <td>False</td>\n",
       "      <td>7.8</td>\n",
       "      <td>246.0</td>\n",
       "      <td>2594</td>\n",
       "    </tr>\n",
       "    <tr>\n",
       "      <th>4</th>\n",
       "      <td>29</td>\n",
       "      <td>110</td>\n",
       "      <td>3.0</td>\n",
       "      <td>1044020005</td>\n",
       "      <td>False</td>\n",
       "      <td>0</td>\n",
       "      <td>[{'id': 18, 'name': 'Drama'}, {'id': 9648, 'na...</td>\n",
       "      <td>tt0111495</td>\n",
       "      <td>french</td>\n",
       "      <td>Red This is the third film from the trilogy by...</td>\n",
       "      <td>...</td>\n",
       "      <td>27-05-1994</td>\n",
       "      <td>0.0</td>\n",
       "      <td>99.0</td>\n",
       "      <td>[{'iso_639_1': 'fr', 'name': 'Français'}]</td>\n",
       "      <td>Released</td>\n",
       "      <td>Three Colors: Red</td>\n",
       "      <td>False</td>\n",
       "      <td>7.8</td>\n",
       "      <td>246.0</td>\n",
       "      <td>2594</td>\n",
       "    </tr>\n",
       "  </tbody>\n",
       "</table>\n",
       "<p>5 rows × 23 columns</p>\n",
       "</div>"
      ],
      "text/plain": [
       "   userId  movieid  rating   timestamp  adult  budget  \\\n",
       "0       1      110     1.0  1425941529  False       0   \n",
       "1      11      110     3.5  1231676989  False       0   \n",
       "2      22      110     5.0  1111937009  False       0   \n",
       "3      24      110     5.0   979870012  False       0   \n",
       "4      29      110     3.0  1044020005  False       0   \n",
       "\n",
       "                                              genres    imdb_id  \\\n",
       "0  [{'id': 18, 'name': 'Drama'}, {'id': 9648, 'na...  tt0111495   \n",
       "1  [{'id': 18, 'name': 'Drama'}, {'id': 9648, 'na...  tt0111495   \n",
       "2  [{'id': 18, 'name': 'Drama'}, {'id': 9648, 'na...  tt0111495   \n",
       "3  [{'id': 18, 'name': 'Drama'}, {'id': 9648, 'na...  tt0111495   \n",
       "4  [{'id': 18, 'name': 'Drama'}, {'id': 9648, 'na...  tt0111495   \n",
       "\n",
       "  original_language                                           overview  ...  \\\n",
       "0            french  Red This is the third film from the trilogy by...  ...   \n",
       "1            french  Red This is the third film from the trilogy by...  ...   \n",
       "2            french  Red This is the third film from the trilogy by...  ...   \n",
       "3            french  Red This is the third film from the trilogy by...  ...   \n",
       "4            french  Red This is the third film from the trilogy by...  ...   \n",
       "\n",
       "   release_date revenue runtime                           spoken_languages  \\\n",
       "0    27-05-1994     0.0    99.0  [{'iso_639_1': 'fr', 'name': 'Français'}]   \n",
       "1    27-05-1994     0.0    99.0  [{'iso_639_1': 'fr', 'name': 'Français'}]   \n",
       "2    27-05-1994     0.0    99.0  [{'iso_639_1': 'fr', 'name': 'Français'}]   \n",
       "3    27-05-1994     0.0    99.0  [{'iso_639_1': 'fr', 'name': 'Français'}]   \n",
       "4    27-05-1994     0.0    99.0  [{'iso_639_1': 'fr', 'name': 'Français'}]   \n",
       "\n",
       "     status              title  video vote_average vote_count Rating Count  \n",
       "0  Released  Three Colors: Red  False          7.8      246.0         2594  \n",
       "1  Released  Three Colors: Red  False          7.8      246.0         2594  \n",
       "2  Released  Three Colors: Red  False          7.8      246.0         2594  \n",
       "3  Released  Three Colors: Red  False          7.8      246.0         2594  \n",
       "4  Released  Three Colors: Red  False          7.8      246.0         2594  \n",
       "\n",
       "[5 rows x 23 columns]"
      ]
     },
     "execution_count": 54,
     "metadata": {},
     "output_type": "execute_result"
    }
   ],
   "source": [
    "rating_with_RatingCount = movie_data.merge(movies_rating_count, left_on = 'title', right_on = 'title', how = 'left')\n",
    "rating_with_RatingCount.head()"
   ]
  },
  {
   "cell_type": "code",
   "execution_count": 55,
   "id": "d7fcd205",
   "metadata": {},
   "outputs": [
    {
     "name": "stdout",
     "output_type": "stream",
     "text": [
      "count   456573.000\n",
      "mean       819.375\n",
      "std        807.667\n",
      "min          1.000\n",
      "25%        221.000\n",
      "50%        548.000\n",
      "75%       1115.000\n",
      "max       3692.000\n",
      "Name: Rating Count, dtype: float64\n"
     ]
    }
   ],
   "source": [
    "pd.set_option('display.float_format', lambda x: '%.3f' % x)\n",
    "print(rating_with_RatingCount['Rating Count'].describe())"
   ]
  },
  {
   "cell_type": "code",
   "execution_count": 56,
   "id": "43fd1beb",
   "metadata": {},
   "outputs": [
    {
     "data": {
      "text/html": [
       "<div>\n",
       "<style scoped>\n",
       "    .dataframe tbody tr th:only-of-type {\n",
       "        vertical-align: middle;\n",
       "    }\n",
       "\n",
       "    .dataframe tbody tr th {\n",
       "        vertical-align: top;\n",
       "    }\n",
       "\n",
       "    .dataframe thead th {\n",
       "        text-align: right;\n",
       "    }\n",
       "</style>\n",
       "<table border=\"1\" class=\"dataframe\">\n",
       "  <thead>\n",
       "    <tr style=\"text-align: right;\">\n",
       "      <th></th>\n",
       "      <th>userId</th>\n",
       "      <th>movieid</th>\n",
       "      <th>rating</th>\n",
       "      <th>timestamp</th>\n",
       "      <th>adult</th>\n",
       "      <th>budget</th>\n",
       "      <th>genres</th>\n",
       "      <th>imdb_id</th>\n",
       "      <th>original_language</th>\n",
       "      <th>overview</th>\n",
       "      <th>...</th>\n",
       "      <th>release_date</th>\n",
       "      <th>revenue</th>\n",
       "      <th>runtime</th>\n",
       "      <th>spoken_languages</th>\n",
       "      <th>status</th>\n",
       "      <th>title</th>\n",
       "      <th>video</th>\n",
       "      <th>vote_average</th>\n",
       "      <th>vote_count</th>\n",
       "      <th>Rating Count</th>\n",
       "    </tr>\n",
       "  </thead>\n",
       "  <tbody>\n",
       "    <tr>\n",
       "      <th>0</th>\n",
       "      <td>1</td>\n",
       "      <td>110</td>\n",
       "      <td>1.000</td>\n",
       "      <td>1425941529</td>\n",
       "      <td>False</td>\n",
       "      <td>0</td>\n",
       "      <td>[{'id': 18, 'name': 'Drama'}, {'id': 9648, 'na...</td>\n",
       "      <td>tt0111495</td>\n",
       "      <td>french</td>\n",
       "      <td>Red This is the third film from the trilogy by...</td>\n",
       "      <td>...</td>\n",
       "      <td>27-05-1994</td>\n",
       "      <td>0.000</td>\n",
       "      <td>99.000</td>\n",
       "      <td>[{'iso_639_1': 'fr', 'name': 'Français'}]</td>\n",
       "      <td>Released</td>\n",
       "      <td>Three Colors: Red</td>\n",
       "      <td>False</td>\n",
       "      <td>7.800</td>\n",
       "      <td>246.000</td>\n",
       "      <td>2594</td>\n",
       "    </tr>\n",
       "    <tr>\n",
       "      <th>1</th>\n",
       "      <td>11</td>\n",
       "      <td>110</td>\n",
       "      <td>3.500</td>\n",
       "      <td>1231676989</td>\n",
       "      <td>False</td>\n",
       "      <td>0</td>\n",
       "      <td>[{'id': 18, 'name': 'Drama'}, {'id': 9648, 'na...</td>\n",
       "      <td>tt0111495</td>\n",
       "      <td>french</td>\n",
       "      <td>Red This is the third film from the trilogy by...</td>\n",
       "      <td>...</td>\n",
       "      <td>27-05-1994</td>\n",
       "      <td>0.000</td>\n",
       "      <td>99.000</td>\n",
       "      <td>[{'iso_639_1': 'fr', 'name': 'Français'}]</td>\n",
       "      <td>Released</td>\n",
       "      <td>Three Colors: Red</td>\n",
       "      <td>False</td>\n",
       "      <td>7.800</td>\n",
       "      <td>246.000</td>\n",
       "      <td>2594</td>\n",
       "    </tr>\n",
       "    <tr>\n",
       "      <th>2</th>\n",
       "      <td>22</td>\n",
       "      <td>110</td>\n",
       "      <td>5.000</td>\n",
       "      <td>1111937009</td>\n",
       "      <td>False</td>\n",
       "      <td>0</td>\n",
       "      <td>[{'id': 18, 'name': 'Drama'}, {'id': 9648, 'na...</td>\n",
       "      <td>tt0111495</td>\n",
       "      <td>french</td>\n",
       "      <td>Red This is the third film from the trilogy by...</td>\n",
       "      <td>...</td>\n",
       "      <td>27-05-1994</td>\n",
       "      <td>0.000</td>\n",
       "      <td>99.000</td>\n",
       "      <td>[{'iso_639_1': 'fr', 'name': 'Français'}]</td>\n",
       "      <td>Released</td>\n",
       "      <td>Three Colors: Red</td>\n",
       "      <td>False</td>\n",
       "      <td>7.800</td>\n",
       "      <td>246.000</td>\n",
       "      <td>2594</td>\n",
       "    </tr>\n",
       "    <tr>\n",
       "      <th>3</th>\n",
       "      <td>24</td>\n",
       "      <td>110</td>\n",
       "      <td>5.000</td>\n",
       "      <td>979870012</td>\n",
       "      <td>False</td>\n",
       "      <td>0</td>\n",
       "      <td>[{'id': 18, 'name': 'Drama'}, {'id': 9648, 'na...</td>\n",
       "      <td>tt0111495</td>\n",
       "      <td>french</td>\n",
       "      <td>Red This is the third film from the trilogy by...</td>\n",
       "      <td>...</td>\n",
       "      <td>27-05-1994</td>\n",
       "      <td>0.000</td>\n",
       "      <td>99.000</td>\n",
       "      <td>[{'iso_639_1': 'fr', 'name': 'Français'}]</td>\n",
       "      <td>Released</td>\n",
       "      <td>Three Colors: Red</td>\n",
       "      <td>False</td>\n",
       "      <td>7.800</td>\n",
       "      <td>246.000</td>\n",
       "      <td>2594</td>\n",
       "    </tr>\n",
       "    <tr>\n",
       "      <th>4</th>\n",
       "      <td>29</td>\n",
       "      <td>110</td>\n",
       "      <td>3.000</td>\n",
       "      <td>1044020005</td>\n",
       "      <td>False</td>\n",
       "      <td>0</td>\n",
       "      <td>[{'id': 18, 'name': 'Drama'}, {'id': 9648, 'na...</td>\n",
       "      <td>tt0111495</td>\n",
       "      <td>french</td>\n",
       "      <td>Red This is the third film from the trilogy by...</td>\n",
       "      <td>...</td>\n",
       "      <td>27-05-1994</td>\n",
       "      <td>0.000</td>\n",
       "      <td>99.000</td>\n",
       "      <td>[{'iso_639_1': 'fr', 'name': 'Français'}]</td>\n",
       "      <td>Released</td>\n",
       "      <td>Three Colors: Red</td>\n",
       "      <td>False</td>\n",
       "      <td>7.800</td>\n",
       "      <td>246.000</td>\n",
       "      <td>2594</td>\n",
       "    </tr>\n",
       "  </tbody>\n",
       "</table>\n",
       "<p>5 rows × 23 columns</p>\n",
       "</div>"
      ],
      "text/plain": [
       "   userId  movieid  rating   timestamp  adult  budget  \\\n",
       "0       1      110   1.000  1425941529  False       0   \n",
       "1      11      110   3.500  1231676989  False       0   \n",
       "2      22      110   5.000  1111937009  False       0   \n",
       "3      24      110   5.000   979870012  False       0   \n",
       "4      29      110   3.000  1044020005  False       0   \n",
       "\n",
       "                                              genres    imdb_id  \\\n",
       "0  [{'id': 18, 'name': 'Drama'}, {'id': 9648, 'na...  tt0111495   \n",
       "1  [{'id': 18, 'name': 'Drama'}, {'id': 9648, 'na...  tt0111495   \n",
       "2  [{'id': 18, 'name': 'Drama'}, {'id': 9648, 'na...  tt0111495   \n",
       "3  [{'id': 18, 'name': 'Drama'}, {'id': 9648, 'na...  tt0111495   \n",
       "4  [{'id': 18, 'name': 'Drama'}, {'id': 9648, 'na...  tt0111495   \n",
       "\n",
       "  original_language                                           overview  ...  \\\n",
       "0            french  Red This is the third film from the trilogy by...  ...   \n",
       "1            french  Red This is the third film from the trilogy by...  ...   \n",
       "2            french  Red This is the third film from the trilogy by...  ...   \n",
       "3            french  Red This is the third film from the trilogy by...  ...   \n",
       "4            french  Red This is the third film from the trilogy by...  ...   \n",
       "\n",
       "   release_date revenue runtime                           spoken_languages  \\\n",
       "0    27-05-1994   0.000  99.000  [{'iso_639_1': 'fr', 'name': 'Français'}]   \n",
       "1    27-05-1994   0.000  99.000  [{'iso_639_1': 'fr', 'name': 'Français'}]   \n",
       "2    27-05-1994   0.000  99.000  [{'iso_639_1': 'fr', 'name': 'Français'}]   \n",
       "3    27-05-1994   0.000  99.000  [{'iso_639_1': 'fr', 'name': 'Français'}]   \n",
       "4    27-05-1994   0.000  99.000  [{'iso_639_1': 'fr', 'name': 'Français'}]   \n",
       "\n",
       "     status              title  video vote_average vote_count Rating Count  \n",
       "0  Released  Three Colors: Red  False        7.800    246.000         2594  \n",
       "1  Released  Three Colors: Red  False        7.800    246.000         2594  \n",
       "2  Released  Three Colors: Red  False        7.800    246.000         2594  \n",
       "3  Released  Three Colors: Red  False        7.800    246.000         2594  \n",
       "4  Released  Three Colors: Red  False        7.800    246.000         2594  \n",
       "\n",
       "[5 rows x 23 columns]"
      ]
     },
     "execution_count": 56,
     "metadata": {},
     "output_type": "execute_result"
    }
   ],
   "source": [
    "popularity_threshold = 50\n",
    "popular_movies= rating_with_RatingCount[rating_with_RatingCount['Rating Count']>=popularity_threshold]\n",
    "popular_movies.head()\n",
    "#popular_movies.shape"
   ]
  },
  {
   "cell_type": "markdown",
   "id": "19936fce",
   "metadata": {},
   "source": [
    "Creating kNN Model"
   ]
  },
  {
   "cell_type": "markdown",
   "id": "73818322",
   "metadata": {},
   "source": [
    "Pivotting title as indices & userId as columns"
   ]
  },
  {
   "cell_type": "code",
   "execution_count": 57,
   "id": "e91d76a8",
   "metadata": {},
   "outputs": [
    {
     "data": {
      "text/html": [
       "<div>\n",
       "<style scoped>\n",
       "    .dataframe tbody tr th:only-of-type {\n",
       "        vertical-align: middle;\n",
       "    }\n",
       "\n",
       "    .dataframe tbody tr th {\n",
       "        vertical-align: top;\n",
       "    }\n",
       "\n",
       "    .dataframe thead th {\n",
       "        text-align: right;\n",
       "    }\n",
       "</style>\n",
       "<table border=\"1\" class=\"dataframe\">\n",
       "  <thead>\n",
       "    <tr style=\"text-align: right;\">\n",
       "      <th>userId</th>\n",
       "      <th>1</th>\n",
       "      <th>2</th>\n",
       "      <th>3</th>\n",
       "      <th>4</th>\n",
       "      <th>5</th>\n",
       "      <th>6</th>\n",
       "      <th>7</th>\n",
       "      <th>8</th>\n",
       "      <th>9</th>\n",
       "      <th>10</th>\n",
       "      <th>...</th>\n",
       "      <th>10645</th>\n",
       "      <th>10646</th>\n",
       "      <th>10647</th>\n",
       "      <th>10648</th>\n",
       "      <th>10649</th>\n",
       "      <th>10651</th>\n",
       "      <th>10652</th>\n",
       "      <th>10653</th>\n",
       "      <th>10655</th>\n",
       "      <th>10656</th>\n",
       "    </tr>\n",
       "    <tr>\n",
       "      <th>title</th>\n",
       "      <th></th>\n",
       "      <th></th>\n",
       "      <th></th>\n",
       "      <th></th>\n",
       "      <th></th>\n",
       "      <th></th>\n",
       "      <th></th>\n",
       "      <th></th>\n",
       "      <th></th>\n",
       "      <th></th>\n",
       "      <th></th>\n",
       "      <th></th>\n",
       "      <th></th>\n",
       "      <th></th>\n",
       "      <th></th>\n",
       "      <th></th>\n",
       "      <th></th>\n",
       "      <th></th>\n",
       "      <th></th>\n",
       "      <th></th>\n",
       "      <th></th>\n",
       "    </tr>\n",
       "  </thead>\n",
       "  <tbody>\n",
       "    <tr>\n",
       "      <th>10 Items or Less</th>\n",
       "      <td>0.000</td>\n",
       "      <td>0.000</td>\n",
       "      <td>0.000</td>\n",
       "      <td>0.000</td>\n",
       "      <td>0.000</td>\n",
       "      <td>0.000</td>\n",
       "      <td>0.000</td>\n",
       "      <td>0.000</td>\n",
       "      <td>0.000</td>\n",
       "      <td>0.000</td>\n",
       "      <td>...</td>\n",
       "      <td>0.000</td>\n",
       "      <td>0.000</td>\n",
       "      <td>0.000</td>\n",
       "      <td>0.000</td>\n",
       "      <td>0.000</td>\n",
       "      <td>0.000</td>\n",
       "      <td>0.000</td>\n",
       "      <td>0.000</td>\n",
       "      <td>0.000</td>\n",
       "      <td>0.000</td>\n",
       "    </tr>\n",
       "    <tr>\n",
       "      <th>10 Things I Hate About You</th>\n",
       "      <td>0.000</td>\n",
       "      <td>0.000</td>\n",
       "      <td>0.000</td>\n",
       "      <td>0.000</td>\n",
       "      <td>0.000</td>\n",
       "      <td>0.000</td>\n",
       "      <td>0.000</td>\n",
       "      <td>0.000</td>\n",
       "      <td>0.000</td>\n",
       "      <td>0.000</td>\n",
       "      <td>...</td>\n",
       "      <td>0.000</td>\n",
       "      <td>0.000</td>\n",
       "      <td>0.000</td>\n",
       "      <td>0.000</td>\n",
       "      <td>0.000</td>\n",
       "      <td>0.000</td>\n",
       "      <td>0.000</td>\n",
       "      <td>0.000</td>\n",
       "      <td>0.000</td>\n",
       "      <td>0.000</td>\n",
       "    </tr>\n",
       "    <tr>\n",
       "      <th>1984</th>\n",
       "      <td>0.000</td>\n",
       "      <td>0.000</td>\n",
       "      <td>0.000</td>\n",
       "      <td>0.000</td>\n",
       "      <td>0.000</td>\n",
       "      <td>0.000</td>\n",
       "      <td>0.000</td>\n",
       "      <td>0.000</td>\n",
       "      <td>0.000</td>\n",
       "      <td>0.000</td>\n",
       "      <td>...</td>\n",
       "      <td>0.000</td>\n",
       "      <td>0.000</td>\n",
       "      <td>0.000</td>\n",
       "      <td>0.000</td>\n",
       "      <td>0.000</td>\n",
       "      <td>0.000</td>\n",
       "      <td>0.000</td>\n",
       "      <td>0.000</td>\n",
       "      <td>0.000</td>\n",
       "      <td>0.000</td>\n",
       "    </tr>\n",
       "    <tr>\n",
       "      <th>2 Days in Paris</th>\n",
       "      <td>0.000</td>\n",
       "      <td>0.000</td>\n",
       "      <td>0.000</td>\n",
       "      <td>0.000</td>\n",
       "      <td>0.000</td>\n",
       "      <td>0.000</td>\n",
       "      <td>0.000</td>\n",
       "      <td>0.000</td>\n",
       "      <td>0.000</td>\n",
       "      <td>0.000</td>\n",
       "      <td>...</td>\n",
       "      <td>0.000</td>\n",
       "      <td>0.000</td>\n",
       "      <td>0.000</td>\n",
       "      <td>0.000</td>\n",
       "      <td>0.000</td>\n",
       "      <td>0.000</td>\n",
       "      <td>0.000</td>\n",
       "      <td>0.000</td>\n",
       "      <td>0.000</td>\n",
       "      <td>0.000</td>\n",
       "    </tr>\n",
       "    <tr>\n",
       "      <th>20,000 Leagues Under the Sea</th>\n",
       "      <td>0.000</td>\n",
       "      <td>0.000</td>\n",
       "      <td>0.000</td>\n",
       "      <td>0.000</td>\n",
       "      <td>0.000</td>\n",
       "      <td>0.000</td>\n",
       "      <td>0.000</td>\n",
       "      <td>0.000</td>\n",
       "      <td>0.000</td>\n",
       "      <td>0.000</td>\n",
       "      <td>...</td>\n",
       "      <td>0.000</td>\n",
       "      <td>0.000</td>\n",
       "      <td>0.000</td>\n",
       "      <td>0.000</td>\n",
       "      <td>0.000</td>\n",
       "      <td>0.000</td>\n",
       "      <td>0.000</td>\n",
       "      <td>0.000</td>\n",
       "      <td>2.500</td>\n",
       "      <td>2.000</td>\n",
       "    </tr>\n",
       "  </tbody>\n",
       "</table>\n",
       "<p>5 rows × 10447 columns</p>\n",
       "</div>"
      ],
      "text/plain": [
       "userId                        1      2      3      4      5      6      7      \\\n",
       "title                                                                           \n",
       "10 Items or Less              0.000  0.000  0.000  0.000  0.000  0.000  0.000   \n",
       "10 Things I Hate About You    0.000  0.000  0.000  0.000  0.000  0.000  0.000   \n",
       "1984                          0.000  0.000  0.000  0.000  0.000  0.000  0.000   \n",
       "2 Days in Paris               0.000  0.000  0.000  0.000  0.000  0.000  0.000   \n",
       "20,000 Leagues Under the Sea  0.000  0.000  0.000  0.000  0.000  0.000  0.000   \n",
       "\n",
       "userId                        8      9      10     ...  10645  10646  10647  \\\n",
       "title                                              ...                        \n",
       "10 Items or Less              0.000  0.000  0.000  ...  0.000  0.000  0.000   \n",
       "10 Things I Hate About You    0.000  0.000  0.000  ...  0.000  0.000  0.000   \n",
       "1984                          0.000  0.000  0.000  ...  0.000  0.000  0.000   \n",
       "2 Days in Paris               0.000  0.000  0.000  ...  0.000  0.000  0.000   \n",
       "20,000 Leagues Under the Sea  0.000  0.000  0.000  ...  0.000  0.000  0.000   \n",
       "\n",
       "userId                        10648  10649  10651  10652  10653  10655  10656  \n",
       "title                                                                          \n",
       "10 Items or Less              0.000  0.000  0.000  0.000  0.000  0.000  0.000  \n",
       "10 Things I Hate About You    0.000  0.000  0.000  0.000  0.000  0.000  0.000  \n",
       "1984                          0.000  0.000  0.000  0.000  0.000  0.000  0.000  \n",
       "2 Days in Paris               0.000  0.000  0.000  0.000  0.000  0.000  0.000  \n",
       "20,000 Leagues Under the Sea  0.000  0.000  0.000  0.000  0.000  2.500  2.000  \n",
       "\n",
       "[5 rows x 10447 columns]"
      ]
     },
     "execution_count": 57,
     "metadata": {},
     "output_type": "execute_result"
    }
   ],
   "source": [
    "import os\n",
    "movie_features_df=popular_movies.pivot_table(index='title',columns='userId',values='rating').fillna(0)\n",
    "movie_features_df.head()\n",
    "#movie_features_df.to_excel('output.xlsx')"
   ]
  },
  {
   "cell_type": "code",
   "execution_count": 58,
   "id": "7500d23e",
   "metadata": {},
   "outputs": [],
   "source": [
    "from scipy.sparse import csr_matrix\n",
    "movie_features_df_matrix = csr_matrix(movie_features_df.values)"
   ]
  },
  {
   "cell_type": "code",
   "execution_count": 59,
   "id": "a3248823",
   "metadata": {},
   "outputs": [
    {
     "data": {
      "text/plain": [
       "NearestNeighbors(algorithm='brute', metric='cosine')"
      ]
     },
     "execution_count": 59,
     "metadata": {},
     "output_type": "execute_result"
    }
   ],
   "source": [
    "from sklearn.neighbors import NearestNeighbors\n",
    "model_knn = NearestNeighbors(metric = 'cosine', algorithm = 'brute')\n",
    "model_knn.fit(movie_features_df_matrix)"
   ]
  },
  {
   "cell_type": "code",
   "execution_count": 60,
   "id": "aeb49a0a",
   "metadata": {},
   "outputs": [
    {
     "data": {
      "text/plain": [
       "(1271, 10447)"
      ]
     },
     "execution_count": 60,
     "metadata": {},
     "output_type": "execute_result"
    }
   ],
   "source": [
    "movie_features_df.shape"
   ]
  },
  {
   "cell_type": "code",
   "execution_count": 61,
   "id": "8c753ad9",
   "metadata": {},
   "outputs": [
    {
     "name": "stdout",
     "output_type": "stream",
     "text": [
      "786\n"
     ]
    }
   ],
   "source": [
    "query_index = np.random.choice(movie_features_df.shape[0])\n",
    "print(query_index)\n",
    "distances, indices = model_knn.kneighbors(movie_features_df.iloc[query_index,:].values.reshape(1, -1), n_neighbors = 6)\n",
    "#query_index=196\n"
   ]
  },
  {
   "cell_type": "code",
   "execution_count": 62,
   "id": "76ac8b87",
   "metadata": {},
   "outputs": [
    {
     "data": {
      "text/html": [
       "<div>\n",
       "<style scoped>\n",
       "    .dataframe tbody tr th:only-of-type {\n",
       "        vertical-align: middle;\n",
       "    }\n",
       "\n",
       "    .dataframe tbody tr th {\n",
       "        vertical-align: top;\n",
       "    }\n",
       "\n",
       "    .dataframe thead th {\n",
       "        text-align: right;\n",
       "    }\n",
       "</style>\n",
       "<table border=\"1\" class=\"dataframe\">\n",
       "  <thead>\n",
       "    <tr style=\"text-align: right;\">\n",
       "      <th>userId</th>\n",
       "      <th>1</th>\n",
       "      <th>2</th>\n",
       "      <th>3</th>\n",
       "      <th>4</th>\n",
       "      <th>5</th>\n",
       "      <th>6</th>\n",
       "      <th>7</th>\n",
       "      <th>8</th>\n",
       "      <th>9</th>\n",
       "      <th>10</th>\n",
       "      <th>...</th>\n",
       "      <th>10645</th>\n",
       "      <th>10646</th>\n",
       "      <th>10647</th>\n",
       "      <th>10648</th>\n",
       "      <th>10649</th>\n",
       "      <th>10651</th>\n",
       "      <th>10652</th>\n",
       "      <th>10653</th>\n",
       "      <th>10655</th>\n",
       "      <th>10656</th>\n",
       "    </tr>\n",
       "    <tr>\n",
       "      <th>title</th>\n",
       "      <th></th>\n",
       "      <th></th>\n",
       "      <th></th>\n",
       "      <th></th>\n",
       "      <th></th>\n",
       "      <th></th>\n",
       "      <th></th>\n",
       "      <th></th>\n",
       "      <th></th>\n",
       "      <th></th>\n",
       "      <th></th>\n",
       "      <th></th>\n",
       "      <th></th>\n",
       "      <th></th>\n",
       "      <th></th>\n",
       "      <th></th>\n",
       "      <th></th>\n",
       "      <th></th>\n",
       "      <th></th>\n",
       "      <th></th>\n",
       "      <th></th>\n",
       "    </tr>\n",
       "  </thead>\n",
       "  <tbody>\n",
       "    <tr>\n",
       "      <th>10 Items or Less</th>\n",
       "      <td>0.000</td>\n",
       "      <td>0.000</td>\n",
       "      <td>0.000</td>\n",
       "      <td>0.000</td>\n",
       "      <td>0.000</td>\n",
       "      <td>0.000</td>\n",
       "      <td>0.000</td>\n",
       "      <td>0.000</td>\n",
       "      <td>0.000</td>\n",
       "      <td>0.000</td>\n",
       "      <td>...</td>\n",
       "      <td>0.000</td>\n",
       "      <td>0.000</td>\n",
       "      <td>0.000</td>\n",
       "      <td>0.000</td>\n",
       "      <td>0.000</td>\n",
       "      <td>0.000</td>\n",
       "      <td>0.000</td>\n",
       "      <td>0.000</td>\n",
       "      <td>0.000</td>\n",
       "      <td>0.000</td>\n",
       "    </tr>\n",
       "    <tr>\n",
       "      <th>10 Things I Hate About You</th>\n",
       "      <td>0.000</td>\n",
       "      <td>0.000</td>\n",
       "      <td>0.000</td>\n",
       "      <td>0.000</td>\n",
       "      <td>0.000</td>\n",
       "      <td>0.000</td>\n",
       "      <td>0.000</td>\n",
       "      <td>0.000</td>\n",
       "      <td>0.000</td>\n",
       "      <td>0.000</td>\n",
       "      <td>...</td>\n",
       "      <td>0.000</td>\n",
       "      <td>0.000</td>\n",
       "      <td>0.000</td>\n",
       "      <td>0.000</td>\n",
       "      <td>0.000</td>\n",
       "      <td>0.000</td>\n",
       "      <td>0.000</td>\n",
       "      <td>0.000</td>\n",
       "      <td>0.000</td>\n",
       "      <td>0.000</td>\n",
       "    </tr>\n",
       "    <tr>\n",
       "      <th>1984</th>\n",
       "      <td>0.000</td>\n",
       "      <td>0.000</td>\n",
       "      <td>0.000</td>\n",
       "      <td>0.000</td>\n",
       "      <td>0.000</td>\n",
       "      <td>0.000</td>\n",
       "      <td>0.000</td>\n",
       "      <td>0.000</td>\n",
       "      <td>0.000</td>\n",
       "      <td>0.000</td>\n",
       "      <td>...</td>\n",
       "      <td>0.000</td>\n",
       "      <td>0.000</td>\n",
       "      <td>0.000</td>\n",
       "      <td>0.000</td>\n",
       "      <td>0.000</td>\n",
       "      <td>0.000</td>\n",
       "      <td>0.000</td>\n",
       "      <td>0.000</td>\n",
       "      <td>0.000</td>\n",
       "      <td>0.000</td>\n",
       "    </tr>\n",
       "    <tr>\n",
       "      <th>2 Days in Paris</th>\n",
       "      <td>0.000</td>\n",
       "      <td>0.000</td>\n",
       "      <td>0.000</td>\n",
       "      <td>0.000</td>\n",
       "      <td>0.000</td>\n",
       "      <td>0.000</td>\n",
       "      <td>0.000</td>\n",
       "      <td>0.000</td>\n",
       "      <td>0.000</td>\n",
       "      <td>0.000</td>\n",
       "      <td>...</td>\n",
       "      <td>0.000</td>\n",
       "      <td>0.000</td>\n",
       "      <td>0.000</td>\n",
       "      <td>0.000</td>\n",
       "      <td>0.000</td>\n",
       "      <td>0.000</td>\n",
       "      <td>0.000</td>\n",
       "      <td>0.000</td>\n",
       "      <td>0.000</td>\n",
       "      <td>0.000</td>\n",
       "    </tr>\n",
       "    <tr>\n",
       "      <th>20,000 Leagues Under the Sea</th>\n",
       "      <td>0.000</td>\n",
       "      <td>0.000</td>\n",
       "      <td>0.000</td>\n",
       "      <td>0.000</td>\n",
       "      <td>0.000</td>\n",
       "      <td>0.000</td>\n",
       "      <td>0.000</td>\n",
       "      <td>0.000</td>\n",
       "      <td>0.000</td>\n",
       "      <td>0.000</td>\n",
       "      <td>...</td>\n",
       "      <td>0.000</td>\n",
       "      <td>0.000</td>\n",
       "      <td>0.000</td>\n",
       "      <td>0.000</td>\n",
       "      <td>0.000</td>\n",
       "      <td>0.000</td>\n",
       "      <td>0.000</td>\n",
       "      <td>0.000</td>\n",
       "      <td>2.500</td>\n",
       "      <td>2.000</td>\n",
       "    </tr>\n",
       "  </tbody>\n",
       "</table>\n",
       "<p>5 rows × 10447 columns</p>\n",
       "</div>"
      ],
      "text/plain": [
       "userId                        1      2      3      4      5      6      7      \\\n",
       "title                                                                           \n",
       "10 Items or Less              0.000  0.000  0.000  0.000  0.000  0.000  0.000   \n",
       "10 Things I Hate About You    0.000  0.000  0.000  0.000  0.000  0.000  0.000   \n",
       "1984                          0.000  0.000  0.000  0.000  0.000  0.000  0.000   \n",
       "2 Days in Paris               0.000  0.000  0.000  0.000  0.000  0.000  0.000   \n",
       "20,000 Leagues Under the Sea  0.000  0.000  0.000  0.000  0.000  0.000  0.000   \n",
       "\n",
       "userId                        8      9      10     ...  10645  10646  10647  \\\n",
       "title                                              ...                        \n",
       "10 Items or Less              0.000  0.000  0.000  ...  0.000  0.000  0.000   \n",
       "10 Things I Hate About You    0.000  0.000  0.000  ...  0.000  0.000  0.000   \n",
       "1984                          0.000  0.000  0.000  ...  0.000  0.000  0.000   \n",
       "2 Days in Paris               0.000  0.000  0.000  ...  0.000  0.000  0.000   \n",
       "20,000 Leagues Under the Sea  0.000  0.000  0.000  ...  0.000  0.000  0.000   \n",
       "\n",
       "userId                        10648  10649  10651  10652  10653  10655  10656  \n",
       "title                                                                          \n",
       "10 Items or Less              0.000  0.000  0.000  0.000  0.000  0.000  0.000  \n",
       "10 Things I Hate About You    0.000  0.000  0.000  0.000  0.000  0.000  0.000  \n",
       "1984                          0.000  0.000  0.000  0.000  0.000  0.000  0.000  \n",
       "2 Days in Paris               0.000  0.000  0.000  0.000  0.000  0.000  0.000  \n",
       "20,000 Leagues Under the Sea  0.000  0.000  0.000  0.000  0.000  2.500  2.000  \n",
       "\n",
       "[5 rows x 10447 columns]"
      ]
     },
     "execution_count": 62,
     "metadata": {},
     "output_type": "execute_result"
    }
   ],
   "source": [
    "movie_features_df.head()"
   ]
  },
  {
   "cell_type": "code",
   "execution_count": 63,
   "id": "fb90888c",
   "metadata": {},
   "outputs": [
    {
     "name": "stdout",
     "output_type": "stream",
     "text": [
      "Recommendations for Run Lola Run:\n",
      "\n",
      "1: Ali: Fear Eats the Soul, with distance of 0.5675465337135652:\n",
      "2: Mrs. Doubtfire, with distance of 0.5962681658073916:\n",
      "3: Kolya, with distance of 0.5999404889779274:\n",
      "4: Get Carter, with distance of 0.615465699365491:\n",
      "5: The Passion of Joan of Arc, with distance of 0.621807473992549:\n"
     ]
    }
   ],
   "source": [
    "for i in range(0, len(distances.flatten())):\n",
    "    if i == 0:\n",
    "        print('Recommendations for {0}:\\n'.format(movie_features_df.index[query_index]))\n",
    "    else:\n",
    "        print('{0}: {1}, with distance of {2}:'.format(i, movie_features_df.index[indices.flatten()[i]], distances.flatten()[i]))"
   ]
  },
  {
   "cell_type": "code",
   "execution_count": null,
   "id": "808df1f5",
   "metadata": {},
   "outputs": [],
   "source": []
  },
  {
   "cell_type": "code",
   "execution_count": null,
   "id": "4aafc1b4",
   "metadata": {},
   "outputs": [],
   "source": []
  }
 ],
 "metadata": {
  "kernelspec": {
   "display_name": "Python 3",
   "language": "python",
   "name": "python3"
  },
  "language_info": {
   "codemirror_mode": {
    "name": "ipython",
    "version": 3
   },
   "file_extension": ".py",
   "mimetype": "text/x-python",
   "name": "python",
   "nbconvert_exporter": "python",
   "pygments_lexer": "ipython3",
   "version": "3.8.8"
  }
 },
 "nbformat": 4,
 "nbformat_minor": 5
}
